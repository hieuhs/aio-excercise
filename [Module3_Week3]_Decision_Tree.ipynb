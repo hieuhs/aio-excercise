{
  "nbformat": 4,
  "nbformat_minor": 0,
  "metadata": {
    "colab": {
      "provenance": []
    },
    "kernelspec": {
      "name": "python3",
      "display_name": "Python 3"
    },
    "language_info": {
      "name": "python"
    }
  },
  "cells": [
    {
      "cell_type": "code",
      "execution_count": 2,
      "metadata": {
        "id": "lTY3l082vByl",
        "colab": {
          "base_uri": "https://localhost:8080/"
        },
        "outputId": "56243a74-48d6-47e1-d1b7-cd396e4e2d45"
      },
      "outputs": [
        {
          "output_type": "stream",
          "name": "stdout",
          "text": [
            "Accuracy: 1.0\n"
          ]
        }
      ],
      "source": [
        "from sklearn import datasets\n",
        "from sklearn.model_selection import train_test_split\n",
        "from sklearn.tree import DecisionTreeClassifier\n",
        "from sklearn.metrics import accuracy_score\n",
        "\n",
        "#Split train:test = 8:2\n",
        "iris_X, iris_y = datasets.load_iris(return_X_y=True)\n",
        "X_train, X_test, y_train, y_test = train_test_split(iris_X, iris_y, test_size=0.2, random_state=42)\n",
        "\n",
        "#Define model\n",
        "dt_classifier = DecisionTreeClassifier()\n",
        "\n",
        "#Train\n",
        "dt_classifier.fit(X_train, y_train)\n",
        "\n",
        "#Predict\n",
        "y_pred = dt_classifier.predict(X_test)\n",
        "\n",
        "#Evaluate\n",
        "accuracy = accuracy_score(y_test, y_pred)\n",
        "print(\"Accuracy:\", accuracy)"
      ]
    },
    {
      "cell_type": "code",
      "source": [
        "from sklearn.datasets import fetch_openml\n",
        "from sklearn.model_selection import train_test_split\n",
        "from sklearn.metrics import mean_squared_error\n",
        "from sklearn.tree import DecisionTreeRegressor\n",
        "\n",
        "#Load dataset\n",
        "machine_cpu = fetch_openml(name='machine_cpu')\n",
        "machine_data = machine_cpu.data\n",
        "machine_labels = machine_cpu.target\n",
        "\n",
        "#Split train:test = 8:2\n",
        "X_train, X_test, y_train, y_test = train_test_split(machine_data, machine_labels, test_size=0.2, random_state=42)\n",
        "\n",
        "#Define model\n",
        "tree_reg = DecisionTreeRegressor()\n",
        "\n",
        "#Train\n",
        "tree_reg.fit(X_train, y_train)\n",
        "\n",
        "#Predict\n",
        "y_pred = tree_reg.predict(X_test)\n",
        "\n",
        "#Evaluate\n",
        "mean_squared_error(y_test, y_pred)"
      ],
      "metadata": {
        "colab": {
          "base_uri": "https://localhost:8080/"
        },
        "id": "LOhI0i3Qae_Z",
        "outputId": "5377991d-3e1c-4ff9-8dba-ec4107f75ca1"
      },
      "execution_count": 4,
      "outputs": [
        {
          "output_type": "stream",
          "name": "stderr",
          "text": [
            "/usr/local/lib/python3.10/dist-packages/sklearn/datasets/_openml.py:311: UserWarning: Multiple active versions of the dataset matching the name machine_cpu exist. Versions may be fundamentally different, returning version 1.\n",
            "  warn(\n",
            "/usr/local/lib/python3.10/dist-packages/sklearn/datasets/_openml.py:1022: FutureWarning: The default value of `parser` will change from `'liac-arff'` to `'auto'` in 1.4. You can set `parser='auto'` to silence this warning. Therefore, an `ImportError` will be raised from 1.4 if the dataset is dense and pandas is not installed. Note that the pandas parser may return different data types. See the Notes Section in fetch_openml's API doc for details.\n",
            "  warn(\n"
          ]
        },
        {
          "output_type": "execute_result",
          "data": {
            "text/plain": [
              "9135.88955026455"
            ]
          },
          "metadata": {},
          "execution_count": 4
        }
      ]
    }
  ]
}