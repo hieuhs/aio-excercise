{
  "nbformat": 4,
  "nbformat_minor": 0,
  "metadata": {
    "colab": {
      "provenance": []
    },
    "kernelspec": {
      "name": "python3",
      "display_name": "Python 3"
    },
    "language_info": {
      "name": "python"
    }
  },
  "cells": [
    {
      "cell_type": "code",
      "source": [
        "#Exercise 1: Find max number in sliding list\n",
        "'''\n",
        "Cho một list các số nguyên num_list và một sliding window có kích thước size k di\n",
        "chuyển từ trái sang phải. Mỗi lần dịch chuyển 1 vị trí sang phải có thể nhìn thấy\n",
        "đươc k số trong num_list và tìm số lớn nhất trong k số này sau mỗi lần trượt k phải\n",
        "lớn hơn hoặc bằng 1\n",
        "'''"
      ],
      "metadata": {
        "id": "CqRzxx88wfK-"
      },
      "execution_count": null,
      "outputs": []
    },
    {
      "cell_type": "code",
      "source": [
        "#Input\n",
        "num_list = [3,4,5,1,-44,5,10,12,33,1]\n",
        "k = 3\n",
        "\n",
        "#Output\n",
        "for i in range(len(num_list)):\n",
        "  observed_list = num_list[i:k+i]\n",
        "  if len(observed_list) < 3:\n",
        "    break\n",
        "  else:\n",
        "    print(f'max {max(observed_list)}')"
      ],
      "metadata": {
        "colab": {
          "base_uri": "https://localhost:8080/"
        },
        "id": "EbdNhXnovf14",
        "outputId": "6741851f-cd10-45cc-f875-185b439aa877"
      },
      "execution_count": null,
      "outputs": [
        {
          "output_type": "stream",
          "name": "stdout",
          "text": [
            "max 5\n",
            "max 5\n",
            "max 5\n",
            "max 5\n",
            "max 10\n",
            "max 12\n",
            "max 33\n",
            "max 33\n"
          ]
        }
      ]
    },
    {
      "cell_type": "code",
      "source": [
        "#Exercise 2: Count word frequency\n",
        "'''\n",
        "Viết function trả về một dictionary đếm số lượng chữ xuất hiện trong một từ, với key là chữ cái\n",
        "và value là số lần xuất hiện\n",
        "'''\n",
        "\n",
        "def count_chars(string):\n",
        "  count_dict = {}\n",
        "  for char in string:\n",
        "    if char not in count_dict:\n",
        "      count_dict[char] = 1\n",
        "    else:\n",
        "      count_dict[char] += 1\n",
        "  return count_dict"
      ],
      "metadata": {
        "id": "vOEMVtWXwoe4"
      },
      "execution_count": null,
      "outputs": []
    },
    {
      "cell_type": "code",
      "source": [
        "string = 'Happiness'\n",
        "count_chars(string)"
      ],
      "metadata": {
        "colab": {
          "base_uri": "https://localhost:8080/"
        },
        "id": "MbRkqdU8yjyD",
        "outputId": "58636977-c6a7-4e43-e93b-b623459f00e5"
      },
      "execution_count": null,
      "outputs": [
        {
          "output_type": "execute_result",
          "data": {
            "text/plain": [
              "{'H': 1, 'a': 1, 'p': 2, 'i': 1, 'n': 1, 'e': 1, 's': 2}"
            ]
          },
          "metadata": {},
          "execution_count": 3
        }
      ]
    },
    {
      "cell_type": "code",
      "source": [
        "string = 'smiles'\n",
        "count_chars(string)"
      ],
      "metadata": {
        "colab": {
          "base_uri": "https://localhost:8080/"
        },
        "id": "gknmLT4Uypk7",
        "outputId": "56313b22-f4cb-48b5-af3d-a23d161a2d10"
      },
      "execution_count": null,
      "outputs": [
        {
          "output_type": "execute_result",
          "data": {
            "text/plain": [
              "{'s': 2, 'm': 1, 'i': 1, 'l': 1, 'e': 1}"
            ]
          },
          "metadata": {},
          "execution_count": 4
        }
      ]
    },
    {
      "cell_type": "code",
      "source": [
        "#Exercise 3: Read file and count word frequency\n",
        "'''\n",
        "Viết function đọc các câu trong một file txt, đếm số lượng các từ xuất hiện và trả về một dictionary\n",
        "với key là từ và value là số lần từ đó xuất hiện.\n",
        "'''\n",
        "\n",
        "!gdown https://drive.google.com/uc?id=1IBScGdW2xlNsc9v5zSAya548kNgiOrko"
      ],
      "metadata": {
        "colab": {
          "base_uri": "https://localhost:8080/"
        },
        "id": "2PUUPzp0yxC1",
        "outputId": "a41fdaef-caf5-471c-f038-c0b892e0345f"
      },
      "execution_count": null,
      "outputs": [
        {
          "output_type": "stream",
          "name": "stdout",
          "text": [
            "Downloading...\n",
            "From: https://drive.google.com/uc?id=1IBScGdW2xlNsc9v5zSAya548kNgiOrko\n",
            "To: /content/P1_data.txt\n",
            "\r  0% 0.00/747 [00:00<?, ?B/s]\r100% 747/747 [00:00<00:00, 2.62MB/s]\n"
          ]
        }
      ]
    },
    {
      "cell_type": "code",
      "source": [
        "!gdown https://drive.google.com/uc?id=1IBScGdW2xlNsc9v5zSAya548kNgiOrko"
      ],
      "metadata": {
        "colab": {
          "base_uri": "https://localhost:8080/"
        },
        "id": "MgpwHCggp05L",
        "outputId": "0ab5a565-302d-4305-b019-e8c9d13b4010"
      },
      "execution_count": 1,
      "outputs": [
        {
          "output_type": "stream",
          "name": "stdout",
          "text": [
            "Downloading...\n",
            "From: https://drive.google.com/uc?id=1IBScGdW2xlNsc9v5zSAya548kNgiOrko\n",
            "To: /content/P1_data.txt\n",
            "\r  0% 0.00/747 [00:00<?, ?B/s]\r100% 747/747 [00:00<00:00, 2.99MB/s]\n"
          ]
        }
      ]
    },
    {
      "cell_type": "code",
      "source": [
        "from os import read\n",
        "file_path = '/content/P1_data.txt'\n",
        "\n",
        "def word_count(file_path):\n",
        "  read_file = open(file_path, 'r')\n",
        "  count_dict = {}\n",
        "  for char in read_file:\n",
        "    for word in char.split():\n",
        "      word = word.lower()\n",
        "      if word not in count_dict:\n",
        "        count_dict[word] = 1\n",
        "      else:\n",
        "        count_dict[word] += 1\n",
        "  return count_dict"
      ],
      "metadata": {
        "id": "kRCskTQFy-a0"
      },
      "execution_count": 2,
      "outputs": []
    },
    {
      "cell_type": "code",
      "source": [
        "#Levenshtein distance\n",
        "\n",
        "def levenshtein_distance(token1, token2):\n",
        "  distance = [[0]*(len(token2)+1) for _ in range(len(token1)+1)]\n",
        "\n",
        "  for t1 in range(len(token1) + 1):\n",
        "    distance[t1][0] = t1\n",
        "\n",
        "  for t2 in range(len(token2) + 1):\n",
        "    distance[0][t2] = t2\n",
        "\n",
        "  del_cost = 0\n",
        "  ins_cost = 0\n",
        "  sub_cost = 0\n",
        "\n",
        "  for idx in range(1, len(token1) + 1):\n",
        "    for jdx in range(1, len(token2) + 1):\n",
        "      if token1[idx-1] == token2[jdx-1]:\n",
        "        distance[idx][jdx] = distance[idx-1][jdx-1]\n",
        "      else:\n",
        "        del_cost = distance[idx-1][jdx] + 1\n",
        "        ins_cost = distance[idx][jdx-1] + 1\n",
        "        sub_cost = distance[idx-1][jdx-1] + 1\n",
        "\n",
        "        if del_cost <= ins_cost and del_cost <= sub_cost:\n",
        "          distance[idx][jdx] = del_cost\n",
        "        elif ins_cost <= sub_cost and ins_cost <= del_cost:\n",
        "          distance[idx][jdx] = ins_cost\n",
        "        else:\n",
        "          distance[idx][jdx] = sub_cost\n",
        "\n",
        "  return distance[len(token1)][len(token2)]"
      ],
      "metadata": {
        "id": "k54ymWmbz5qe"
      },
      "execution_count": 30,
      "outputs": []
    },
    {
      "cell_type": "code",
      "source": [
        "levenshtein_distance('hola', 'hello')"
      ],
      "metadata": {
        "colab": {
          "base_uri": "https://localhost:8080/"
        },
        "id": "OeV5r4TYDlrT",
        "outputId": "7d159d4e-940b-40f8-c499-dd04ef3507c1"
      },
      "execution_count": 33,
      "outputs": [
        {
          "output_type": "execute_result",
          "data": {
            "text/plain": [
              "3"
            ]
          },
          "metadata": {},
          "execution_count": 33
        }
      ]
    }
  ]
}