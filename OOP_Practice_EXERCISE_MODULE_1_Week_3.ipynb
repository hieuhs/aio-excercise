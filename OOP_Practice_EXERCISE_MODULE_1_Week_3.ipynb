{
  "nbformat": 4,
  "nbformat_minor": 0,
  "metadata": {
    "colab": {
      "provenance": []
    },
    "kernelspec": {
      "name": "python3",
      "display_name": "Python 3"
    },
    "language_info": {
      "name": "python"
    }
  },
  "cells": [
    {
      "cell_type": "code",
      "execution_count": 21,
      "metadata": {
        "id": "XGEmw67ekSLT"
      },
      "outputs": [],
      "source": [
        "#Q1: Class Softmax\n",
        "\n",
        "import numpy as np\n",
        "import torch\n",
        "import torch.nn as nn\n",
        "\n",
        "\n",
        "class Softmax(nn.Module):\n",
        "  def __init__(self):\n",
        "        super().__init__()\n",
        "\n",
        "  def forward(self, x):\n",
        "        x_exp = torch.exp(x)\n",
        "        total = x_exp.sum(0, keepdim=True)\n",
        "        return x_exp / total"
      ]
    },
    {
      "cell_type": "code",
      "source": [
        "data = torch.Tensor([1,2,3])\n",
        "softmax = Softmax()\n",
        "result = softmax(data)\n",
        "print(result)"
      ],
      "metadata": {
        "colab": {
          "base_uri": "https://localhost:8080/"
        },
        "id": "ZHhb51NylNUe",
        "outputId": "24e91412-ded9-4e18-8de6-4f180b8f37fb"
      },
      "execution_count": 29,
      "outputs": [
        {
          "output_type": "stream",
          "name": "stdout",
          "text": [
            "tensor([0.0900, 0.2447, 0.6652])\n"
          ]
        }
      ]
    },
    {
      "cell_type": "code",
      "source": [
        "class softmax_stable(nn.Module):\n",
        "  def __init__(self):\n",
        "        super().__init__()\n",
        "\n",
        "  def forward(self, x):\n",
        "    c = torch.max(x, dim = 0)\n",
        "    exp_x = torch.exp(x - c.values)\n",
        "    total = exp_x.sum(0, keepdim=True)\n",
        "    return exp_x / total"
      ],
      "metadata": {
        "id": "ZD-o033LMb4z"
      },
      "execution_count": 31,
      "outputs": []
    },
    {
      "cell_type": "code",
      "source": [
        "data = torch.Tensor([1,2,3000000])\n",
        "\n",
        "result = softmax(data)\n",
        "print(result)"
      ],
      "metadata": {
        "colab": {
          "base_uri": "https://localhost:8080/"
        },
        "id": "wTMf7OXjWZAv",
        "outputId": "f557ef8d-387f-485e-c847-4f3483de9b93"
      },
      "execution_count": 33,
      "outputs": [
        {
          "output_type": "stream",
          "name": "stdout",
          "text": [
            "tensor([0., 0., nan])\n"
          ]
        }
      ]
    },
    {
      "cell_type": "code",
      "source": [
        "# Q2(a)\n",
        "from abc import ABC, abstractclassmethod\n",
        "\n",
        "class Person():\n",
        "  def __init__(self, name, yob):\n",
        "    self._name = name\n",
        "    self._yob = yob\n",
        "\n",
        "  @abstractclassmethod\n",
        "  def describe(self):\n",
        "    pass\n",
        "\n",
        "class Student(Person):\n",
        "  def __init__(self, name, yob, grade):\n",
        "    super().__init__(name=name, yob=yob)\n",
        "    self.__grade = grade\n",
        "\n",
        "  def describe(self):\n",
        "    print(f\"Name: {self._name} - YOB: {self._yob} - Grade: {self.__grade}\")\n",
        "\n",
        "student1 = Student(name=\"studentA\", yob =2010 , grade =\"7\")\n",
        "student1.describe()\n",
        "\n",
        "class Teacher(Person):\n",
        "  def __init__(self, name, yob, subject):\n",
        "    super().__init__(name=name, yob=yob)\n",
        "    self.__subject = subject\n",
        "\n",
        "  def describe(self):\n",
        "    print(f\"Name: {self._name} - YOB: {self._yob} - Subject: {self.__subject}\")\n",
        "\n",
        "teacher1 = Teacher(name=\"teacherA\", yob = 1969 , subject =\"Math\")\n",
        "teacher1.describe()\n",
        "\n",
        "class Doctor(Person):\n",
        "  def __init__(self, name, yob, specialist):\n",
        "    super().__init__(name=name, yob=yob)\n",
        "    self.__specialist = specialist\n",
        "  def describe(self):\n",
        "    print(f\"Name: {self._name} - YOB: {self._yob} - Specialist: {self.__specialist}\")\n",
        "\n",
        "doctor1 = Doctor(name =\"doctorA\", yob =1945 , specialist =\"Endocrinologists\")\n",
        "doctor1.describe()"
      ],
      "metadata": {
        "colab": {
          "base_uri": "https://localhost:8080/"
        },
        "id": "P1QdUP2NNg7u",
        "outputId": "fb1feeb5-ccb2-4090-cfc7-3bd412d6f3c4"
      },
      "execution_count": 34,
      "outputs": [
        {
          "output_type": "stream",
          "name": "stdout",
          "text": [
            "Name: studentA - YOB: 2010 - Grade: 7\n",
            "Name: teacherA - YOB: 1969 - Subject: Math\n",
            "Name: doctorA - YOB: 1945 - Specialist: Endocrinologists\n"
          ]
        }
      ]
    },
    {
      "cell_type": "code",
      "source": [
        "# Q2(b), 2(c), 2(d), 2(e)\n",
        "\n",
        "class Ward:\n",
        "  def __init__(self, name):\n",
        "    self.__name = name\n",
        "    self.__list_people = list()\n",
        "\n",
        "  def add_person(self, person):\n",
        "    self.__list_people.append(person)\n",
        "\n",
        "  def describe(self):\n",
        "    print(f\"Name: {self.__name}\")\n",
        "    for person in self.__list_people:\n",
        "      person.describe()\n",
        "\n",
        "  def count_doctor(self):\n",
        "    count = 0\n",
        "    for person in self.__list_people:\n",
        "      if isinstance(person, Doctor):\n",
        "        count += 1\n",
        "    return count\n",
        "\n",
        "  def sort_yob(self):\n",
        "    self.__list_people.sort(key=lambda x: x._yob)\n",
        "\n",
        "  def compute_average(self):\n",
        "    total = 0\n",
        "    counter = 0\n",
        "    for person in self.__list_people:\n",
        "      if isinstance(person, Teacher):\n",
        "        total += person._yob\n",
        "        counter += 1\n",
        "    return total / counter\n",
        ""
      ],
      "metadata": {
        "id": "HecExQmXPYlH"
      },
      "execution_count": 49,
      "outputs": []
    },
    {
      "cell_type": "code",
      "source": [
        "ward1 = Ward(name=\"ward1\")\n",
        "ward1.add_person(student1)\n",
        "ward1.add_person(teacher1)\n",
        "ward1.add_person(doctor1)\n",
        "ward1.describe()\n",
        "ward1.count_doctor()\n",
        "ward1.sort_yob()\n",
        "ward1.compute_average()"
      ],
      "metadata": {
        "colab": {
          "base_uri": "https://localhost:8080/"
        },
        "id": "vR9hyKYtbe0w",
        "outputId": "dae43141-257f-4499-ece0-b53ab79f6e91"
      },
      "execution_count": 52,
      "outputs": [
        {
          "output_type": "stream",
          "name": "stdout",
          "text": [
            "Name: ward1\n",
            "Name: studentA - YOB: 2010 - Grade: 7\n",
            "Name: teacherA - YOB: 1969 - Subject: Math\n",
            "Name: doctorA - YOB: 1945 - Specialist: Endocrinologists\n"
          ]
        },
        {
          "output_type": "execute_result",
          "data": {
            "text/plain": [
              "1969.0"
            ]
          },
          "metadata": {},
          "execution_count": 52
        }
      ]
    },
    {
      "cell_type": "code",
      "source": [
        "#Q3 - Stack\n",
        "\n",
        "class Stack():\n",
        "  def __init__(self, capacity):\n",
        "    self.__capacity = capacity\n",
        "    self.__stack = []\n",
        "\n",
        "  def is_empty(self):\n",
        "    if len(self.__stack) == 0:\n",
        "      return True\n",
        "    else:\n",
        "      return False\n",
        "\n",
        "  def is_full(self):\n",
        "    if len(self.__stack) == self.__capacity:\n",
        "      return True\n",
        "    else:\n",
        "      return False\n",
        "\n",
        "  def push(self, item):\n",
        "    if self.is_full():\n",
        "      print(\"Stack is full\")\n",
        "    else:\n",
        "      self.__stack.append(item)\n",
        "\n",
        "  def pop(self):\n",
        "    if self.is_empty():\n",
        "      print(\"Stack is empty\")\n",
        "    else:\n",
        "      return self.__stack.pop()\n",
        "\n",
        "  def top(self):\n",
        "    if self.is_empty():\n",
        "      print(\"Stack is empty\")\n",
        "    else:\n",
        "      return self.__stack[-1]"
      ],
      "metadata": {
        "id": "uamQ-JhHczvp"
      },
      "execution_count": 59,
      "outputs": []
    },
    {
      "cell_type": "code",
      "source": [
        "#Q4 - Queue\n",
        "\n",
        "class Queue(Stack):\n",
        "  def __init__(self, capacity):\n",
        "    super().__init__()\n",
        "\n",
        "  def is_empty(self):\n",
        "    super().is_empty()\n",
        "\n",
        "  def is_full(self):\n",
        "    super().is_full()\n",
        "\n",
        "  def dequeue(self):\n",
        "    if self.is_empty():\n",
        "      print(\"Queue is empty\")\n",
        "    else:\n",
        "      return self.__stack.pop(0)\n",
        "\n",
        "  def enqueue(self, item):\n",
        "    if self.is_full():\n",
        "      print(\"Queue is full\")\n",
        "    else:\n",
        "      self.__stack.insert(0, item)\n",
        "\n",
        "  def front(self):\n",
        "    if self.is_empty():\n",
        "      print(\"Queue is empty\")\n",
        "    else:\n",
        "      return self.__stack[-1]"
      ],
      "metadata": {
        "id": "9XwWe4Nkiij1"
      },
      "execution_count": 60,
      "outputs": []
    }
  ]
}