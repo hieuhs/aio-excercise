{
  "nbformat": 4,
  "nbformat_minor": 0,
  "metadata": {
    "colab": {
      "provenance": []
    },
    "kernelspec": {
      "name": "python3",
      "display_name": "Python 3"
    },
    "language_info": {
      "name": "python"
    }
  },
  "cells": [
    {
      "cell_type": "code",
      "execution_count": 19,
      "metadata": {
        "id": "jW8rrocjOR-g"
      },
      "outputs": [],
      "source": [
        "import numpy as np\n",
        "import pandas as pd\n",
        "\n",
        "def create_train_data():\n",
        "  data = pd.read_csv('/content/Excercise - Sheet1 (1).csv')\n",
        "  return np.array(data)"
      ]
    },
    {
      "cell_type": "code",
      "source": [
        "train_data = create_train_data()\n",
        "print(train_data)"
      ],
      "metadata": {
        "colab": {
          "base_uri": "https://localhost:8080/"
        },
        "id": "M3zA1iOVOxiX",
        "outputId": "1f2f7017-98d7-430c-cb9f-2ddaa26a2f52"
      },
      "execution_count": 121,
      "outputs": [
        {
          "output_type": "stream",
          "name": "stdout",
          "text": [
            "[['Sunny' 'Hot' 'High' 'Weak' 'No']\n",
            " ['Sunny' 'Hot' 'High' 'Strong' 'No']\n",
            " ['Overcast' 'Hot' 'High' 'Weak' 'Yes']\n",
            " ['Rain' 'Mild' 'High' 'Weak' 'Yes']\n",
            " ['Rain' 'Cool' 'Normal' 'Weak' 'Yes']\n",
            " ['Rain' 'Cool' 'Normal' 'Strong' 'No']\n",
            " ['Overcast' 'Cool' 'Normal' 'Strong' 'Yes']\n",
            " ['Overcast' 'Mild' 'High' 'Weak' 'No']\n",
            " ['Sunny' 'Cool' 'Normal' 'Weak' 'Yes']\n",
            " ['Rain' 'Mild' 'Normal' 'Weak' 'Yes']]\n"
          ]
        }
      ]
    },
    {
      "cell_type": "code",
      "source": [
        "def compute_prior_probability(train_data):\n",
        "  y_unique = ['No', 'Yes']\n",
        "  prior_probability = np.zeros(len(y_unique))\n",
        "\n",
        "  for i in range(len(y_unique)):\n",
        "    prior_probability[i] = np.sum(train_data[:, -1] == y_unique[i]) / len(train_data)\n",
        "\n",
        "  return prior_probability"
      ],
      "metadata": {
        "id": "vFSU47agPOrj"
      },
      "execution_count": 129,
      "outputs": []
    },
    {
      "cell_type": "code",
      "source": [
        "prior_probability = compute_prior_probability(train_data)\n",
        "print(\"P(Play Tennis = Yes) = \", prior_probability[1])\n",
        "print(\"P(Play Tennis = No) = \", prior_probability[0])"
      ],
      "metadata": {
        "colab": {
          "base_uri": "https://localhost:8080/"
        },
        "id": "eVgXluMIox99",
        "outputId": "d4deceae-5931-4d2d-81ce-0ebd6953e636"
      },
      "execution_count": 130,
      "outputs": [
        {
          "output_type": "stream",
          "name": "stdout",
          "text": [
            "P(Play Tennis = Yes) =  0.6\n",
            "P(Play Tennis = No) =  0.4\n"
          ]
        }
      ]
    },
    {
      "cell_type": "code",
      "source": [
        "def compute_conditional_probability(train_data):\n",
        "  y_unique = ['No', 'Yes']\n",
        "  conditional_probability = []\n",
        "  list_x_name = []\n",
        "  for i in range(0,train_data.shape[1]-1):\n",
        "    x_unique = np.unique(train_data[:,i])\n",
        "    print(\"x_unique\", x_unique)\n",
        "\n",
        "    list_x_name.append(x_unique)\n",
        "\n",
        "    x_conditional_probability = np.zeros((len(y_unique),len(x_unique)))\n",
        "    for j in range(0,len(y_unique)):\n",
        "      for k in range(0,len(x_unique)):\n",
        "        x_conditional_probability[j,k]= len(np.where((train_data[:,i] == x_unique[k]) & (train_data[:,4] == y_unique[j]))[0])/len(np.where(train_data[:,4] == y_unique[j])[0])\n",
        "\n",
        "    conditional_probability.append(x_conditional_probability)\n",
        "  return conditional_probability, list_x_name"
      ],
      "metadata": {
        "id": "3MgoFMQEP7ZS"
      },
      "execution_count": 122,
      "outputs": []
    },
    {
      "cell_type": "code",
      "source": [
        "#4.3.1\n",
        "train_data = create_train_data()\n",
        "_, list_x_name  = compute_conditional_probability(train_data)\n",
        "print(\"x1 = \",list_x_name[0])\n",
        "print(\"x2 = \",list_x_name[1])\n",
        "print(\"x3 = \",list_x_name[2])\n",
        "print(\"x4 = \",list_x_name[3])"
      ],
      "metadata": {
        "colab": {
          "base_uri": "https://localhost:8080/"
        },
        "id": "60nZkiqLSVzK",
        "outputId": "a2437900-eaf6-462f-e35a-d71a174b61b6"
      },
      "execution_count": 123,
      "outputs": [
        {
          "output_type": "stream",
          "name": "stdout",
          "text": [
            "x_unique ['Overcast' 'Rain' 'Sunny']\n",
            "x_unique ['Cool' 'Hot' 'Mild']\n",
            "x_unique ['High' 'Normal']\n",
            "x_unique ['Strong' 'Weak']\n",
            "x1 =  ['Overcast' 'Rain' 'Sunny']\n",
            "x2 =  ['Cool' 'Hot' 'Mild']\n",
            "x3 =  ['High' 'Normal']\n",
            "x4 =  ['Strong' 'Weak']\n"
          ]
        }
      ]
    },
    {
      "cell_type": "code",
      "source": [
        "def get_index_from_value(feature_name, list_features):\n",
        "  return np.where(list_features == feature_name)[0][0]"
      ],
      "metadata": {
        "id": "uySDGdDDTFzO"
      },
      "execution_count": 124,
      "outputs": []
    },
    {
      "cell_type": "code",
      "source": [
        "train_data = create_train_data()\n",
        "_, list_x_name = compute_conditional_probability(train_data)\n",
        "outlook = list_x_name[0]\n",
        "\n",
        "i1 = get_index_from_value('Overcast', outlook)\n",
        "i2 = get_index_from_value('Rain', outlook)\n",
        "i3 = get_index_from_value('Sunny', outlook)\n",
        "\n",
        "print(i1, i2, i3)"
      ],
      "metadata": {
        "colab": {
          "base_uri": "https://localhost:8080/"
        },
        "id": "oKRorbeFTW07",
        "outputId": "93e815a0-7cc2-410e-efb4-8af57087df1a"
      },
      "execution_count": 125,
      "outputs": [
        {
          "output_type": "stream",
          "name": "stdout",
          "text": [
            "x_unique ['Overcast' 'Rain' 'Sunny']\n",
            "x_unique ['Cool' 'Hot' 'Mild']\n",
            "x_unique ['High' 'Normal']\n",
            "x_unique ['Strong' 'Weak']\n",
            "0 1 2\n"
          ]
        }
      ]
    },
    {
      "cell_type": "code",
      "source": [
        "train_data = create_train_data ()\n",
        "conditional_probability , list_x_name = compute_conditional_probability(train_data)\n",
        "# Compute P(\" Outlook \"=\" Sunny \"| Play Tennis \"=\" Yes \")\n",
        "x1 = get_index_from_value(\"Sunny\", list_x_name[0])\n",
        "\n",
        "print(np.round(conditional_probability[0][1, x1],2))"
      ],
      "metadata": {
        "colab": {
          "base_uri": "https://localhost:8080/"
        },
        "id": "ag8pvJOjTq2P",
        "outputId": "6ca1bdb0-9c62-4aa0-a2b8-12cd7c82e608"
      },
      "execution_count": 127,
      "outputs": [
        {
          "output_type": "stream",
          "name": "stdout",
          "text": [
            "x_unique ['Overcast' 'Rain' 'Sunny']\n",
            "x_unique ['Cool' 'Hot' 'Mild']\n",
            "x_unique ['High' 'Normal']\n",
            "x_unique ['Strong' 'Weak']\n",
            "0.17\n"
          ]
        }
      ]
    },
    {
      "cell_type": "code",
      "source": [
        "print(np.round(conditional_probability[0][0, x1],2))"
      ],
      "metadata": {
        "colab": {
          "base_uri": "https://localhost:8080/"
        },
        "id": "rkIN4PwLrCNO",
        "outputId": "c0c55f0c-305f-4703-a17c-43f8f7fec57c"
      },
      "execution_count": 135,
      "outputs": [
        {
          "output_type": "stream",
          "name": "stdout",
          "text": [
            "0.5\n"
          ]
        }
      ]
    },
    {
      "cell_type": "code",
      "source": [
        "def train_naive_bayes(train_data):\n",
        "  #Calculate Prior Probability:\n",
        "  y_unique = ['No', 'Yes']\n",
        "  prior_probability = compute_prior_probability(train_data)\n",
        "\n",
        "  #Calculate Conditional Probability:\n",
        "  conditional_probability, list_x_name = compute_conditional_probability(train_data)\n",
        "  return prior_probability, conditional_probability, list_x_name"
      ],
      "metadata": {
        "id": "lQ0RaxlAU52S"
      },
      "execution_count": 131,
      "outputs": []
    },
    {
      "cell_type": "code",
      "source": [
        "def prediction_play_tennis(X, list_x_name, prior_probability, conditional_probability):\n",
        "  x1 = get_index_from_value(X[0], list_x_name[0])\n",
        "  x2 = get_index_from_value(X[1], list_x_name[1])\n",
        "  x3 = get_index_from_value(X[2], list_x_name[2])\n",
        "  x4 = get_index_from_value(X[3], list_x_name[3])\n",
        "\n",
        "  p0 = prior_probability[0] * conditional_probability[0][0, x1] * conditional_probability[1][0, x2] * conditional_probability[2][0, x3] * conditional_probability[3][0, x4]\n",
        "  p1 = prior_probability[1] * conditional_probability[0][1, x1] * conditional_probability[1][1, x2] * conditional_probability[2][1, x3] * conditional_probability[3][1, x4]\n",
        "\n",
        "\n",
        "  if p0 > p1:\n",
        "    y_pred = 0\n",
        "  else:\n",
        "    y_pred = 1\n",
        "\n",
        "  return y_pred"
      ],
      "metadata": {
        "id": "RxbmBO8Ip9X9"
      },
      "execution_count": 132,
      "outputs": []
    },
    {
      "cell_type": "code",
      "source": [
        "X = ['Sunny','Cool', 'High', 'Strong']\n",
        "data = create_train_data()\n",
        "prior_probability,conditional_probability, list_x_name = train_naive_bayes(data)\n",
        "pred =  prediction_play_tennis(X, list_x_name, prior_probability, conditional_probability)\n",
        "\n",
        "if(pred):\n",
        "  print(\"Ad should go!\")\n",
        "else:\n",
        "  print(\"Ad should not go!\")"
      ],
      "metadata": {
        "colab": {
          "base_uri": "https://localhost:8080/"
        },
        "id": "cCpinx_VqeAk",
        "outputId": "c496fd46-c3f6-4d12-a06e-23f9b9d8fa23"
      },
      "execution_count": 133,
      "outputs": [
        {
          "output_type": "stream",
          "name": "stdout",
          "text": [
            "x_unique ['Overcast' 'Rain' 'Sunny']\n",
            "x_unique ['Cool' 'Hot' 'Mild']\n",
            "x_unique ['High' 'Normal']\n",
            "x_unique ['Strong' 'Weak']\n",
            "Ad should not go!\n"
          ]
        }
      ]
    }
  ]
}