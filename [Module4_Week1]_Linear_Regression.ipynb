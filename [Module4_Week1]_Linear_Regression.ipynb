{
  "nbformat": 4,
  "nbformat_minor": 0,
  "metadata": {
    "colab": {
      "provenance": []
    },
    "kernelspec": {
      "name": "python3",
      "display_name": "Python 3"
    },
    "language_info": {
      "name": "python"
    }
  },
  "cells": [
    {
      "cell_type": "code",
      "execution_count": 1,
      "metadata": {
        "id": "d4Ausmsf7plf"
      },
      "outputs": [],
      "source": [
        "import numpy as np\n",
        "import matplotlib.pyplot as plt\n",
        "import random\n",
        "\n",
        "def get_column(data, index):\n",
        "  result = [row[index] for row in data]\n",
        "  return result\n",
        "\n",
        "def prepare_data(file_name_dataset):\n",
        "  data = np.genfromtxt(file_name_dataset, delimiter=',', skip_header = 1).tolist()\n",
        "  N = len(data)\n",
        "\n",
        "  tv_data = get_column(data, 0)\n",
        "  radio_data = get_column(data, 1)\n",
        "  newspaper_data = get_column(data, 2)\n",
        "  sales_data = get_column(data, 3)\n",
        "\n",
        "  X = [tv_data, radio_data, newspaper_data]\n",
        "  y = sales_data\n",
        "\n",
        "  return X, y"
      ]
    },
    {
      "cell_type": "code",
      "source": [
        "X, y = prepare_data('advertising.csv')\n",
        "list = [sum(X[0][:5]), sum(X[1][:5]), sum(X[2][:5]), sum(y[:5])]\n",
        "print(list)"
      ],
      "metadata": {
        "colab": {
          "base_uri": "https://localhost:8080/"
        },
        "id": "tTRaNile8wcI",
        "outputId": "f933edd2-bde9-4a97-8c74-db49cafaf3d2"
      },
      "execution_count": 2,
      "outputs": [
        {
          "output_type": "stream",
          "name": "stdout",
          "text": [
            "[624.1, 175.10000000000002, 300.5, 78.9]\n"
          ]
        }
      ]
    },
    {
      "cell_type": "markdown",
      "source": [
        "# Section 2"
      ],
      "metadata": {
        "id": "lmDaYcYQQmEg"
      }
    },
    {
      "cell_type": "code",
      "source": [
        "#compute output and loss\n",
        "def predict(x1, x2, x3, w1, w2, w3, b):\n",
        "  result = w1*x1 + w2*x2 + w3*x3 + b\n",
        "  return result\n",
        "\n",
        "def compute_loss_mse(y, y_hat):\n",
        "  result = (y - y_hat)**2\n",
        "  return result\n",
        "\n",
        "def compute_loss_mae(y_hat, y):\n",
        "  result = abs(y - y_hat)\n",
        "  return result\n",
        "\n",
        "def compute_gradient_wi(xi, y, y_hat):\n",
        "  result = -2*(y - y_hat)*xi\n",
        "  return result\n",
        "\n",
        "def compute_gradient_b(y, y_hat):\n",
        "  result = -2*(y - y_hat)\n",
        "  return result\n",
        "\n",
        "def update_weight_wi(wi, dl_dwi, lr):\n",
        "  result = wi - dl_dwi*lr\n",
        "  return result\n",
        "\n",
        "def update_weight_b(b, dl_db, lr):\n",
        "  result = b - dl_db*lr\n",
        "  return result"
      ],
      "metadata": {
        "id": "EsqLFKYj9ojY"
      },
      "execution_count": 3,
      "outputs": []
    },
    {
      "cell_type": "code",
      "source": [
        "y_p = predict(x1 = 1, x2 = 1, x3 = 1, w1 = 0, w2 = 0.5, w3 = 0, b = 0.5)\n",
        "print(y_p)"
      ],
      "metadata": {
        "colab": {
          "base_uri": "https://localhost:8080/"
        },
        "id": "K7rHnf4zNfYo",
        "outputId": "ab5a1a7d-b6d7-45e0-e885-2dad10cebc0f"
      },
      "execution_count": 4,
      "outputs": [
        {
          "output_type": "stream",
          "name": "stdout",
          "text": [
            "1.0\n"
          ]
        }
      ]
    },
    {
      "cell_type": "code",
      "source": [
        "l = compute_loss_mse(y_hat = 1, y = 0.5)\n",
        "print(l)"
      ],
      "metadata": {
        "colab": {
          "base_uri": "https://localhost:8080/"
        },
        "id": "mtqLQwUkOE5B",
        "outputId": "7541e382-01fc-4dd8-837f-1c6810e77964"
      },
      "execution_count": 5,
      "outputs": [
        {
          "output_type": "stream",
          "name": "stdout",
          "text": [
            "0.25\n"
          ]
        }
      ]
    },
    {
      "cell_type": "code",
      "source": [
        "g_wi = compute_gradient_wi(xi = 1, y = 1, y_hat = 0.5)\n",
        "print(g_wi)"
      ],
      "metadata": {
        "colab": {
          "base_uri": "https://localhost:8080/"
        },
        "id": "6c3EqVbMONxo",
        "outputId": "165f6c4d-1b5c-43aa-aa57-9f445128f0c0"
      },
      "execution_count": 6,
      "outputs": [
        {
          "output_type": "stream",
          "name": "stdout",
          "text": [
            "-1.0\n"
          ]
        }
      ]
    },
    {
      "cell_type": "code",
      "source": [
        "g_b = compute_gradient_b(y = 2, y_hat = 0.5)\n",
        "print(g_b)"
      ],
      "metadata": {
        "colab": {
          "base_uri": "https://localhost:8080/"
        },
        "id": "BqpRkSmmPDXJ",
        "outputId": "05506403-19db-47ea-8ae2-ece09e25d59d"
      },
      "execution_count": 7,
      "outputs": [
        {
          "output_type": "stream",
          "name": "stdout",
          "text": [
            "-3.0\n"
          ]
        }
      ]
    },
    {
      "cell_type": "code",
      "source": [
        "after_wi = update_weight_wi(wi=1.0, dl_dwi=-0.5, lr = 1e-5)\n",
        "print(after_wi)"
      ],
      "metadata": {
        "colab": {
          "base_uri": "https://localhost:8080/"
        },
        "id": "Us3BpK3jP8iN",
        "outputId": "b1293e52-444c-4484-8770-686f20de1363"
      },
      "execution_count": 8,
      "outputs": [
        {
          "output_type": "stream",
          "name": "stdout",
          "text": [
            "1.000005\n"
          ]
        }
      ]
    },
    {
      "cell_type": "code",
      "source": [
        "after_b = update_weight_b(b=0.5, dl_db=-1.0, lr = 1e-5)\n",
        "print(after_b)"
      ],
      "metadata": {
        "colab": {
          "base_uri": "https://localhost:8080/"
        },
        "id": "mBa7lV0vQZAw",
        "outputId": "b0a6effb-e36e-4477-eb27-3b1c1e975a51"
      },
      "execution_count": 9,
      "outputs": [
        {
          "output_type": "stream",
          "name": "stdout",
          "text": [
            "0.50001\n"
          ]
        }
      ]
    },
    {
      "cell_type": "markdown",
      "source": [
        "# Section 3"
      ],
      "metadata": {
        "id": "iKb-gBqgQrBO"
      }
    },
    {
      "cell_type": "code",
      "source": [
        "def initialize_params():\n",
        "  w1, w2, w3, b = (0.016992259082509283, 0.0070783670518262355, -0.002307860847821344, 0)\n",
        "  return w1, w2, w3, b"
      ],
      "metadata": {
        "id": "DeGv9fjAQsXa"
      },
      "execution_count": 10,
      "outputs": []
    },
    {
      "cell_type": "code",
      "source": [
        "def implement_linear_regression(X_data, y_data, epoch_max = 50, lr = 1e-5):\n",
        "  losses = []\n",
        "  w1, w2, w3, b = initialize_params()\n",
        "\n",
        "  N = len(y_data)\n",
        "  for epoch in range(epoch_max):\n",
        "    for i in range(N):\n",
        "      # get a sample\n",
        "      x1 = X_data[0][i]\n",
        "      x2 = X_data[1][i]\n",
        "      x3 = X_data[2][i]\n",
        "\n",
        "      y = y_data[i]\n",
        "\n",
        "      #compute output\n",
        "      y_hat = predict(x1, x2, x3, w1, w2, w3, b)\n",
        "\n",
        "      #compute loss\n",
        "      loss = compute_loss_mse(y, y_hat)\n",
        "\n",
        "      # compute gradient w1, w2, w3, b\n",
        "      dl_dw1 = compute_gradient_wi(x1, y, y_hat)\n",
        "      dl_dw2 = compute_gradient_wi(x2, y, y_hat)\n",
        "      dl_dw3 = compute_gradient_wi(x3, y, y_hat)\n",
        "      dl_db = compute_gradient_b(y, y_hat)\n",
        "\n",
        "      #update parameters\n",
        "      w1 = update_weight_wi(w1, dl_dw1, lr)\n",
        "      w2 = update_weight_wi(w2, dl_dw2, lr)\n",
        "      w3 = update_weight_wi(w3, dl_dw3, lr)\n",
        "      b = update_weight_b(b, dl_db, lr)\n",
        "\n",
        "      #logging\n",
        "      losses.append(loss)\n",
        "  return(w1, w2, w3, b, losses)"
      ],
      "metadata": {
        "id": "ZKbecqX2QyMI"
      },
      "execution_count": 11,
      "outputs": []
    },
    {
      "cell_type": "code",
      "source": [
        "X, y = prepare_data('advertising.csv')\n",
        "(w1, w2, w3, b, losses) = implement_linear_regression(X, y)\n",
        "plt.plot(losses[:100])\n",
        "plt.xlabel('iteration')\n",
        "plt.ylabel('loss')\n",
        "plt.show()"
      ],
      "metadata": {
        "colab": {
          "base_uri": "https://localhost:8080/",
          "height": 449
        },
        "id": "QlOzXvPmmAIN",
        "outputId": "b780f0ed-8f6b-4e11-ef1e-5227bb6619e7"
      },
      "execution_count": 12,
      "outputs": [
        {
          "output_type": "display_data",
          "data": {
            "text/plain": [
              "<Figure size 640x480 with 1 Axes>"
            ],
            "image/png": "[encoded data removed]"
          },
          "metadata": {}
        }
      ]
    },
    {
      "cell_type": "code",
      "source": [
        "print(w1, w2, w3)"
      ],
      "metadata": {
        "colab": {
          "base_uri": "https://localhost:8080/"
        },
        "id": "dV0AuGw0mNkr",
        "outputId": "5390755f-a913-442e-ccf0-bbe96947c017"
      },
      "execution_count": 13,
      "outputs": [
        {
          "output_type": "stream",
          "name": "stdout",
          "text": [
            "0.07405984066396477 0.15917360263437663 0.017561197559948935\n"
          ]
        }
      ]
    },
    {
      "cell_type": "code",
      "source": [
        "#given new data\n",
        "tv = 19.2\n",
        "radio = 35.9\n",
        "newspaper = 51.3\n",
        "\n",
        "X, y = prepare_data('advertising.csv')\n",
        "(w1, w2, w3, b, losses) = implement_linear_regression(X, y)\n",
        "sales = predict(tv, radio, newspaper, w1, w2, w3, b)\n",
        "print(f'predicted sales is {sales}')"
      ],
      "metadata": {
        "colab": {
          "base_uri": "https://localhost:8080/"
        },
        "id": "PUveGj6dmadq",
        "outputId": "048189df-6be9-45a2-c49f-0a0991c068f1"
      },
      "execution_count": 14,
      "outputs": [
        {
          "output_type": "stream",
          "name": "stdout",
          "text": [
            "predicted sales is 8.176413319549823\n"
          ]
        }
      ]
    },
    {
      "cell_type": "code",
      "source": [
        "#given new data\n",
        "\n",
        "tv = 230.1\n",
        "radio = 37.8\n",
        "newspaper = 69.2\n",
        "\n",
        "sales = predict(tv, radio, newspaper, w1, w2, w3, b)\n",
        "print(f'predicted sales is {sales}')"
      ],
      "metadata": {
        "colab": {
          "base_uri": "https://localhost:8080/"
        },
        "id": "ywQfQ-2qmuKi",
        "outputId": "76143950-5880-4937-b439-28c5deebd391"
      },
      "execution_count": 15,
      "outputs": [
        {
          "output_type": "stream",
          "name": "stdout",
          "text": [
            "predicted sales is 24.412408996908397\n"
          ]
        }
      ]
    },
    {
      "cell_type": "code",
      "source": [
        "l = compute_loss_mae(y_hat = 1, y = 0.5)\n",
        "print(l)"
      ],
      "metadata": {
        "colab": {
          "base_uri": "https://localhost:8080/"
        },
        "id": "bnipAyG6nPr4",
        "outputId": "e7d76d30-cc75-4950-afd6-1bfc4bd72e01"
      },
      "execution_count": 16,
      "outputs": [
        {
          "output_type": "stream",
          "name": "stdout",
          "text": [
            "0.5\n"
          ]
        }
      ]
    },
    {
      "cell_type": "code",
      "source": [
        "def implement_linear_regresison_nsamples(X_data, y_data, epoch_max = 50, lr = 1e-5):\n",
        "  losses = []\n",
        "  w1, w2, w3, b = initialize_params()\n",
        "  N = len(y_data)\n",
        "\n",
        "  for epoch in range(epoch_max):\n",
        "    loss_total = 0.0\n",
        "    dw1_total = 0.0\n",
        "    dw2_total = 0.0\n",
        "    dw3_total = 0.0\n",
        "    db_total = 0.0\n",
        "\n",
        "    for i in range(N):\n",
        "      x1 = X_data[0][i]\n",
        "      x2 = X_data[1][i]\n",
        "      x3 = X_data[2][i]\n",
        "\n",
        "      y = y_data[i]\n",
        "\n",
        "      #compute output\n",
        "      y_hat = predict(x1, x2, x3, w1, w2, w3, b)\n",
        "\n",
        "      #compute loss\n",
        "      loss = compute_loss_mse(y, y_hat)\n",
        "\n",
        "      #accumulate loss to total loss\n",
        "      loss_total += loss\n",
        "\n",
        "      # compute gradient w1, w2, w3, b\n",
        "      dl_dw1 = compute_gradient_wi(x1, y, y_hat)\n",
        "      dl_dw2 = compute_gradient_wi(x2, y, y_hat)\n",
        "      dl_dw3 = compute_gradient_wi(x3, y, y_hat)\n",
        "      dl_db = compute_gradient_b(y, y_hat)\n",
        "\n",
        "      # accumulate gradient w1, w2, w3, b\n",
        "      dw1_total += dl_dw1\n",
        "      dw2_total += dl_dw2\n",
        "      dw3_total += dl_dw3\n",
        "      db_total += dl_db\n",
        "\n",
        "    #update parameters\n",
        "    w1 = update_weight_wi(w1, dw1_total, lr)\n",
        "    w2 = update_weight_wi(w2, dw2_total, lr)\n",
        "    w3 = update_weight_wi(w3, dw3_total, lr)\n",
        "    b = update_weight_b(b, db_total, lr)\n",
        "\n",
        "    #logging\n",
        "    losses.append(loss_total)\n",
        "  return(w1, w2, w3, b, losses)"
      ],
      "metadata": {
        "id": "EefwC9vFnY8K"
      },
      "execution_count": 23,
      "outputs": []
    },
    {
      "cell_type": "code",
      "source": [
        "(w1, w2, w3, b, losses) = implement_linear_regresison_nsamples(X, y,\n",
        "                                                            epoch_max=1000,\n",
        "                                                            lr=1e-5)\n",
        "print(losses)\n",
        "plt.plot(losses)\n",
        "plt.xlabel('iteration')\n",
        "plt.ylabel('loss')\n",
        "plt.show()"
      ],
      "metadata": {
        "id": "N6NSeFHspI6K"
      },
      "execution_count": null,
      "outputs": []
    },
    {
      "cell_type": "markdown",
      "source": [
        "# Section 4"
      ],
      "metadata": {
        "id": "DrQJ47mQrVZS"
      }
    },
    {
      "cell_type": "code",
      "source": [
        "import numpy as np\n",
        "import matplotlib.pyplot as plt\n",
        "import random"
      ],
      "metadata": {
        "id": "5_CKIWUprW8q"
      },
      "execution_count": 26,
      "outputs": []
    },
    {
      "cell_type": "code",
      "source": [
        "def prepare_data(file_name_dataset):\n",
        "  data = np.genfromtxt(file_name_dataset, delimiter=',', skip_header = 1).tolist()\n",
        "\n",
        "  # get tv (index=0)\n",
        "  tv_data = get_column(data, 0)\n",
        "\n",
        "  # get radio (index = 1)\n",
        "  radio_data = get_column(data, 1)\n",
        "\n",
        "  # get newspaper (index = 2)\n",
        "  newspaper_data = get_column(data, 2)\n",
        "\n",
        "  # get sales (index = 3)\n",
        "  sales_data = get_column(data, 3)\n",
        "\n",
        "  #building X input and y output for training\n",
        "  X = [[1, x1, x2, x3] for x1, x2, x3 in zip(tv_data, radio_data, newspaper_data)]\n",
        "  y = sales_data\n",
        "\n",
        "  return X, y"
      ],
      "metadata": {
        "id": "wzD7M0kRryva"
      },
      "execution_count": 27,
      "outputs": []
    },
    {
      "cell_type": "code",
      "source": [
        "def initialize_params():\n",
        "  bias = 0\n",
        "  w1 = random.gauss(mu=0.0, sigma=0.01)\n",
        "  w2 = random.gauss(mu=0.0, sigma=0.01)\n",
        "  w3 = random.gauss(mu=0.0, sigma=0.01)\n",
        "\n",
        "  return [0, 0.016992259082509283, 0.0070783670518262355, -0.002307860847821344]"
      ],
      "metadata": {
        "id": "3stDyI9JtXml"
      },
      "execution_count": 28,
      "outputs": []
    },
    {
      "cell_type": "code",
      "source": [
        "def predict(X_features, weights):\n",
        "  result = np.dot(X_features, weights)\n",
        "  return result\n",
        "\n",
        "def compute_loss(y_hat, y):\n",
        "  return (y_hat - y)**2\n",
        "\n",
        "def compute_gradient_w(X_features, y_hat, y):\n",
        "  X_features = np.array(X_features)\n",
        "  dl_dweights = -2*(y_hat - y)*X_features\n",
        "  return dl_dweights\n",
        "\n",
        "def update_weight(weights, gradient, lr):\n",
        "  weights = weights - gradient*lr\n",
        "  return weights"
      ],
      "metadata": {
        "id": "Xh4qzDmGt4m3"
      },
      "execution_count": 36,
      "outputs": []
    },
    {
      "cell_type": "code",
      "source": [
        "def implement_linear_regression(X_feature, y_output, epoch_max = 50,lr = 1e-5):\n",
        "\n",
        "  losses = []\n",
        "  weights = initialize_params()\n",
        "  N = len(y_output)\n",
        "  for epoch in range(epoch_max):\n",
        "      print(\"epoch\", epoch)\n",
        "      for i in range(N):\n",
        "          # get a sample - row i\n",
        "          features_i = X_feature[i]\n",
        "          y = y_output[i]\n",
        "\n",
        "          # compute output\n",
        "          y_hat = predict(features_i, weights)\n",
        "\n",
        "          # compute loss\n",
        "          loss = compute_loss(y, y_hat)\n",
        "\n",
        "          # compute gradient w1, w2, w3, b\n",
        "          dl_dweights = compute_gradient_w(features_i, y, y_hat)\n",
        "\n",
        "          # update parameters\n",
        "          weights = update_weight(weights, dl_dweights, lr)\n",
        "\n",
        "          # logging\n",
        "          losses.append(loss)\n",
        "  return weights, losses"
      ],
      "metadata": {
        "id": "xAvxUTHMufob"
      },
      "execution_count": 37,
      "outputs": []
    },
    {
      "cell_type": "code",
      "source": [
        "X,y = prepare_data('advertising.csv')\n",
        "W,L = implement_linear_regression(X,y)\n",
        "plt.plot(L[0:100])\n",
        "plt.xlabel(\"#iteration\")\n",
        "plt.ylabel(\"Loss\")\n",
        "plt.show()"
      ],
      "metadata": {
        "colab": {
          "base_uri": "https://localhost:8080/",
          "height": 1000
        },
        "id": "mxnU5WmcumbZ",
        "outputId": "b9e35ec6-5fd7-4c09-dc7a-a4e3d3968f64"
      },
      "execution_count": 38,
      "outputs": [
        {
          "output_type": "stream",
          "name": "stdout",
          "text": [
            "epoch 0\n",
            "epoch 1\n",
            "epoch 2\n",
            "epoch 3\n",
            "epoch 4\n",
            "epoch 5\n",
            "epoch 6\n",
            "epoch 7\n",
            "epoch 8\n",
            "epoch 9\n",
            "epoch 10\n",
            "epoch 11\n",
            "epoch 12\n",
            "epoch 13\n",
            "epoch 14\n",
            "epoch 15\n",
            "epoch 16\n",
            "epoch 17\n",
            "epoch 18\n",
            "epoch 19\n",
            "epoch 20\n",
            "epoch 21\n",
            "epoch 22\n",
            "epoch 23\n",
            "epoch 24\n",
            "epoch 25\n",
            "epoch 26\n",
            "epoch 27\n",
            "epoch 28\n",
            "epoch 29\n",
            "epoch 30\n",
            "epoch 31\n",
            "epoch 32\n",
            "epoch 33\n",
            "epoch 34\n",
            "epoch 35\n",
            "epoch 36\n",
            "epoch 37\n",
            "epoch 38\n",
            "epoch 39\n",
            "epoch 40\n",
            "epoch 41\n",
            "epoch 42\n",
            "epoch 43\n",
            "epoch 44\n",
            "epoch 45\n",
            "epoch 46\n",
            "epoch 47\n",
            "epoch 48\n",
            "epoch 49\n"
          ]
        },
        {
          "output_type": "display_data",
          "data": {
            "text/plain": [
              "<Figure size 640x480 with 1 Axes>"
            ],
            "image/png": "[encoded data removed]"
          },
          "metadata": {}
        }
      ]
    },
    {
      "cell_type": "code",
      "source": [
        "X, y = prepare_data('advertising.csv')\n",
        "W,L = implement_linear_regression(X,y)\n",
        "\n",
        "print(L[9999])"
      ],
      "metadata": {
        "colab": {
          "base_uri": "https://localhost:8080/"
        },
        "id": "Cw-EXsCRvcF1",
        "outputId": "fbe22cb0-8faf-4f09-b0fe-4d7fc9390fd6"
      },
      "execution_count": 39,
      "outputs": [
        {
          "output_type": "stream",
          "name": "stdout",
          "text": [
            "epoch 0\n",
            "epoch 1\n",
            "epoch 2\n",
            "epoch 3\n",
            "epoch 4\n",
            "epoch 5\n",
            "epoch 6\n",
            "epoch 7\n",
            "epoch 8\n",
            "epoch 9\n",
            "epoch 10\n",
            "epoch 11\n",
            "epoch 12\n",
            "epoch 13\n",
            "epoch 14\n",
            "epoch 15\n",
            "epoch 16\n",
            "epoch 17\n",
            "epoch 18\n",
            "epoch 19\n",
            "epoch 20\n",
            "epoch 21\n",
            "epoch 22\n",
            "epoch 23\n",
            "epoch 24\n",
            "epoch 25\n",
            "epoch 26\n",
            "epoch 27\n",
            "epoch 28\n",
            "epoch 29\n",
            "epoch 30\n",
            "epoch 31\n",
            "epoch 32\n",
            "epoch 33\n",
            "epoch 34\n",
            "epoch 35\n",
            "epoch 36\n",
            "epoch 37\n",
            "epoch 38\n",
            "epoch 39\n",
            "epoch 40\n",
            "epoch 41\n",
            "epoch 42\n",
            "epoch 43\n",
            "epoch 44\n",
            "epoch 45\n",
            "epoch 46\n",
            "epoch 47\n",
            "epoch 48\n",
            "epoch 49\n",
            "31.338878034644296\n"
          ]
        }
      ]
    }
  ]
}