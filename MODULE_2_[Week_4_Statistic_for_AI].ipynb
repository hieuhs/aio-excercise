{
  "nbformat": 4,
  "nbformat_minor": 0,
  "metadata": {
    "colab": {
      "provenance": []
    },
    "kernelspec": {
      "name": "python3",
      "display_name": "Python 3"
    },
    "language_info": {
      "name": "python"
    }
  },
  "cells": [
    {
      "cell_type": "code",
      "execution_count": null,
      "metadata": {
        "colab": {
          "base_uri": "https://localhost:8080/"
        },
        "id": "iRTIT6qtjpZX",
        "outputId": "5524f365-fe75-4fff-c360-efecb99a373f"
      },
      "outputs": [
        {
          "output_type": "stream",
          "name": "stdout",
          "text": [
            "Mean:  1.8\n"
          ]
        }
      ],
      "source": [
        "#Question 1\n",
        "\n",
        "import numpy as np\n",
        "\n",
        "def compute_mean(X):\n",
        "  # your code here *********************\n",
        "  return np.mean(X)\n",
        "\n",
        "X = [2 , 0 , 2 , 2 , 7, 4 , -2 , 5 , -1 , -1]\n",
        "print(\"Mean: \", compute_mean(X))"
      ]
    },
    {
      "cell_type": "code",
      "source": [
        "#Question 2\n",
        "def compute_median(X):\n",
        "  size = len(X)\n",
        "  X = np.sort(X)\n",
        "  print(X)\n",
        "  if(size % 2 == 0):\n",
        "    return (X[size//2] + X[size//2 - 1])/2\n",
        "  else:\n",
        "    return X[size//2]\n",
        "\n",
        "X = [1 , 5 , 4 , 4 , 9, 13]\n",
        "print (\" Median : \", compute_median ( X ) )"
      ],
      "metadata": {
        "colab": {
          "base_uri": "https://localhost:8080/"
        },
        "id": "nPmR2W1wkPjZ",
        "outputId": "d9aa84db-ef80-4285-946f-61f96d81aa70"
      },
      "execution_count": null,
      "outputs": [
        {
          "output_type": "stream",
          "name": "stdout",
          "text": [
            "[ 1  4  4  5  9 13]\n",
            " Median :  4.5\n"
          ]
        }
      ]
    },
    {
      "cell_type": "code",
      "source": [
        "#Question 3\n",
        "def compute_std(X):\n",
        "  mean = compute_mean(X)\n",
        "  variance = 0\n",
        "  for x in X:\n",
        "    variance += (x - mean)**2\n",
        "  variance /= len(X)\n",
        "  return variance**0.5\n",
        "\n",
        "X = [ 171 , 176 , 155 , 167 , 169 , 182]\n",
        "print(compute_std(X))"
      ],
      "metadata": {
        "colab": {
          "base_uri": "https://localhost:8080/"
        },
        "id": "-n98FjY1lJiK",
        "outputId": "51d53ff0-4c0f-4b8d-be35-f544069860d2"
      },
      "execution_count": null,
      "outputs": [
        {
          "output_type": "stream",
          "name": "stdout",
          "text": [
            "8.32666399786453\n"
          ]
        }
      ]
    },
    {
      "cell_type": "code",
      "source": [
        "#Question 4\n",
        "\n",
        "def compute_correlation_coefficient(X, Y):\n",
        "  N = len(X)\n",
        "  numerator = N*X.dot(Y) - np.sum(X)*np.sum(Y)\n",
        "  denominator = np.sqrt(N*np.sum(np.square(X))-np.sum(X)**2) \\\n",
        "    * np.sqrt(N*np.sum(np.square(Y))-np.sum(Y)**2)\n",
        "\n",
        "  return np.round(numerator / denominator,2)\n",
        "X = np.asarray([ -2 , -5 , -11 , 6 , 4 , 15 , 9])\n",
        "Y = np.asarray([4 , 25 , 121 , 36 , 16 , 225 , 81])\n",
        "\n",
        "print(compute_correlation_coefficient(X, Y))"
      ],
      "metadata": {
        "colab": {
          "base_uri": "https://localhost:8080/"
        },
        "id": "T5rudBLElpNO",
        "outputId": "52fed005-ad30-4d3c-d9af-17b6980b7bce"
      },
      "execution_count": null,
      "outputs": [
        {
          "output_type": "stream",
          "name": "stdout",
          "text": [
            "0.42\n"
          ]
        }
      ]
    },
    {
      "cell_type": "markdown",
      "source": [
        "# TABULAR DATA ANALYSIS"
      ],
      "metadata": {
        "id": "3vLtTOs6eYFG"
      }
    },
    {
      "cell_type": "code",
      "source": [
        "# Download dataset :\n",
        "!gdown 1iA0WmVfW88HyJvTBSQDI5vesf-pgKabq\n",
        "import pandas as pd\n",
        "\n",
        "data = pd.read_csv(\"advertising.csv\")\n",
        "\n",
        "def correlation(x, y):\n",
        "  return compute_correlation_coefficient(x, y)\n",
        "\n",
        "# # Your code here #\n",
        "\n",
        "# Example usage :\n",
        "x = data[\"TV\"]\n",
        "y = data [\"Radio\"]\n",
        "corr_xy = correlation (x , y )\n",
        "print ( f\" Correlation between TV and Sales : { round ( corr_xy , 2)}\")"
      ],
      "metadata": {
        "colab": {
          "base_uri": "https://localhost:8080/"
        },
        "id": "2kv1PcV-qt7t",
        "outputId": "598df914-3d3a-4f12-f233-5d965c861e1d"
      },
      "execution_count": null,
      "outputs": [
        {
          "output_type": "stream",
          "name": "stdout",
          "text": [
            "Downloading...\n",
            "From: https://drive.google.com/uc?id=1iA0WmVfW88HyJvTBSQDI5vesf-pgKabq\n",
            "To: /content/advertising.csv\n",
            "\r  0% 0.00/4.06k [00:00<?, ?B/s]\r100% 4.06k/4.06k [00:00<00:00, 9.53MB/s]\n",
            " Correlation between TV and Sales : 0.05\n"
          ]
        }
      ]
    },
    {
      "cell_type": "code",
      "source": [
        "feature = ['TV', 'Radio', \"Newspaper\"]\n",
        "for feature_1 in feature:\n",
        "  for feature_2 in feature:\n",
        "      correlation_value = correlation(data[feature_1], data[feature_2])\n",
        "      print(f\"Correlation between {feature_1} and {feature_2}: {round(correlation_value,2)}\")"
      ],
      "metadata": {
        "colab": {
          "base_uri": "https://localhost:8080/"
        },
        "id": "42uU--q_yHQO",
        "outputId": "096f262e-b9a6-41f4-b429-ba642beeadf0"
      },
      "execution_count": null,
      "outputs": [
        {
          "output_type": "stream",
          "name": "stdout",
          "text": [
            "Correlation between TV and TV: 1.0\n",
            "Correlation between TV and Radio: 0.05\n",
            "Correlation between TV and Newspaper: 0.06\n",
            "Correlation between Radio and TV: 0.05\n",
            "Correlation between Radio and Radio: 1.0\n",
            "Correlation between Radio and Newspaper: 0.35\n",
            "Correlation between Newspaper and TV: 0.06\n",
            "Correlation between Newspaper and Radio: 0.35\n",
            "Correlation between Newspaper and Newspaper: 1.0\n"
          ]
        }
      ]
    },
    {
      "cell_type": "code",
      "source": [
        "x = data['Radio']\n",
        "y = data['Newspaper']\n",
        "\n",
        "result = np.corrcoef(x, y)\n",
        "print(result)"
      ],
      "metadata": {
        "colab": {
          "base_uri": "https://localhost:8080/"
        },
        "id": "gmI0t1HqzHcA",
        "outputId": "4f92982f-18e1-465e-aef3-1e849ceac165"
      },
      "execution_count": null,
      "outputs": [
        {
          "output_type": "stream",
          "name": "stdout",
          "text": [
            "[[1.         0.35410375]\n",
            " [0.35410375 1.        ]]\n"
          ]
        }
      ]
    },
    {
      "cell_type": "code",
      "source": [
        "data.corr()"
      ],
      "metadata": {
        "colab": {
          "base_uri": "https://localhost:8080/",
          "height": 174
        },
        "id": "yZ7-hQigzWyc",
        "outputId": "b75d10af-798b-40e6-f475-097db095ae0c"
      },
      "execution_count": null,
      "outputs": [
        {
          "output_type": "execute_result",
          "data": {
            "text/plain": [
              "                 TV     Radio  Newspaper     Sales\n",
              "TV         1.000000  0.054809   0.056648  0.901208\n",
              "Radio      0.054809  1.000000   0.354104  0.349631\n",
              "Newspaper  0.056648  0.354104   1.000000  0.157960\n",
              "Sales      0.901208  0.349631   0.157960  1.000000"
            ],
            "text/html": [
              "\n",
              "  <div id=\"df-b82c356a-36d8-4cf9-9111-c7b6af6c0f7e\" class=\"colab-df-container\">\n",
              "    <div>\n",
              "<style scoped>\n",
              "    .dataframe tbody tr th:only-of-type {\n",
              "        vertical-align: middle;\n",
              "    }\n",
              "\n",
              "    .dataframe tbody tr th {\n",
              "        vertical-align: top;\n",
              "    }\n",
              "\n",
              "    .dataframe thead th {\n",
              "        text-align: right;\n",
              "    }\n",
              "</style>\n",
              "<table border=\"1\" class=\"dataframe\">\n",
              "  <thead>\n",
              "    <tr style=\"text-align: right;\">\n",
              "      <th></th>\n",
              "      <th>TV</th>\n",
              "      <th>Radio</th>\n",
              "      <th>Newspaper</th>\n",
              "      <th>Sales</th>\n",
              "    </tr>\n",
              "  </thead>\n",
              "  <tbody>\n",
              "    <tr>\n",
              "      <th>TV</th>\n",
              "      <td>1.000000</td>\n",
              "      <td>0.054809</td>\n",
              "      <td>0.056648</td>\n",
              "      <td>0.901208</td>\n",
              "    </tr>\n",
              "    <tr>\n",
              "      <th>Radio</th>\n",
              "      <td>0.054809</td>\n",
              "      <td>1.000000</td>\n",
              "      <td>0.354104</td>\n",
              "      <td>0.349631</td>\n",
              "    </tr>\n",
              "    <tr>\n",
              "      <th>Newspaper</th>\n",
              "      <td>0.056648</td>\n",
              "      <td>0.354104</td>\n",
              "      <td>1.000000</td>\n",
              "      <td>0.157960</td>\n",
              "    </tr>\n",
              "    <tr>\n",
              "      <th>Sales</th>\n",
              "      <td>0.901208</td>\n",
              "      <td>0.349631</td>\n",
              "      <td>0.157960</td>\n",
              "      <td>1.000000</td>\n",
              "    </tr>\n",
              "  </tbody>\n",
              "</table>\n",
              "</div>\n",
              "    <div class=\"colab-df-buttons\">\n",
              "\n",
              "  <div class=\"colab-df-container\">\n",
              "    <button class=\"colab-df-convert\" onclick=\"convertToInteractive('df-b82c356a-36d8-4cf9-9111-c7b6af6c0f7e')\"\n",
              "            title=\"Convert this dataframe to an interactive table.\"\n",
              "            style=\"display:none;\">\n",
              "\n",
              "  <svg xmlns=\"http://www.w3.org/2000/svg\" height=\"24px\" viewBox=\"0 -960 960 960\">\n",
              "    <path d=\"M120-120v-720h720v720H120Zm60-500h600v-160H180v160Zm220 220h160v-160H400v160Zm0 220h160v-160H400v160ZM180-400h160v-160H180v160Zm440 0h160v-160H620v160ZM180-180h160v-160H180v160Zm440 0h160v-160H620v160Z\"/>\n",
              "  </svg>\n",
              "    </button>\n",
              "\n",
              "  <style>\n",
              "    .colab-df-container {\n",
              "      display:flex;\n",
              "      gap: 12px;\n",
              "    }\n",
              "\n",
              "    .colab-df-convert {\n",
              "      background-color: #E8F0FE;\n",
              "      border: none;\n",
              "      border-radius: 50%;\n",
              "      cursor: pointer;\n",
              "      display: none;\n",
              "      fill: #1967D2;\n",
              "      height: 32px;\n",
              "      padding: 0 0 0 0;\n",
              "      width: 32px;\n",
              "    }\n",
              "\n",
              "    .colab-df-convert:hover {\n",
              "      background-color: #E2EBFA;\n",
              "      box-shadow: 0px 1px 2px rgba(60, 64, 67, 0.3), 0px 1px 3px 1px rgba(60, 64, 67, 0.15);\n",
              "      fill: #174EA6;\n",
              "    }\n",
              "\n",
              "    .colab-df-buttons div {\n",
              "      margin-bottom: 4px;\n",
              "    }\n",
              "\n",
              "    [theme=dark] .colab-df-convert {\n",
              "      background-color: #3B4455;\n",
              "      fill: #D2E3FC;\n",
              "    }\n",
              "\n",
              "    [theme=dark] .colab-df-convert:hover {\n",
              "      background-color: #434B5C;\n",
              "      box-shadow: 0px 1px 3px 1px rgba(0, 0, 0, 0.15);\n",
              "      filter: drop-shadow(0px 1px 2px rgba(0, 0, 0, 0.3));\n",
              "      fill: #FFFFFF;\n",
              "    }\n",
              "  </style>\n",
              "\n",
              "    <script>\n",
              "      const buttonEl =\n",
              "        document.querySelector('#df-b82c356a-36d8-4cf9-9111-c7b6af6c0f7e button.colab-df-convert');\n",
              "      buttonEl.style.display =\n",
              "        google.colab.kernel.accessAllowed ? 'block' : 'none';\n",
              "\n",
              "      async function convertToInteractive(key) {\n",
              "        const element = document.querySelector('#df-b82c356a-36d8-4cf9-9111-c7b6af6c0f7e');\n",
              "        const dataTable =\n",
              "          await google.colab.kernel.invokeFunction('convertToInteractive',\n",
              "                                                    [key], {});\n",
              "        if (!dataTable) return;\n",
              "\n",
              "        const docLinkHtml = 'Like what you see? Visit the ' +\n",
              "          '<a target=\"_blank\" href=https://colab.research.google.com/notebooks/data_table.ipynb>data table notebook</a>'\n",
              "          + ' to learn more about interactive tables.';\n",
              "        element.innerHTML = '';\n",
              "        dataTable['output_type'] = 'display_data';\n",
              "        await google.colab.output.renderOutput(dataTable, element);\n",
              "        const docLink = document.createElement('div');\n",
              "        docLink.innerHTML = docLinkHtml;\n",
              "        element.appendChild(docLink);\n",
              "      }\n",
              "    </script>\n",
              "  </div>\n",
              "\n",
              "\n",
              "<div id=\"df-7e382698-bf80-4230-b7f1-12c4d772de73\">\n",
              "  <button class=\"colab-df-quickchart\" onclick=\"quickchart('df-7e382698-bf80-4230-b7f1-12c4d772de73')\"\n",
              "            title=\"Suggest charts\"\n",
              "            style=\"display:none;\">\n",
              "\n",
              "<svg xmlns=\"http://www.w3.org/2000/svg\" height=\"24px\"viewBox=\"0 0 24 24\"\n",
              "     width=\"24px\">\n",
              "    <g>\n",
              "        <path d=\"M19 3H5c-1.1 0-2 .9-2 2v14c0 1.1.9 2 2 2h14c1.1 0 2-.9 2-2V5c0-1.1-.9-2-2-2zM9 17H7v-7h2v7zm4 0h-2V7h2v10zm4 0h-2v-4h2v4z\"/>\n",
              "    </g>\n",
              "</svg>\n",
              "  </button>\n",
              "\n",
              "<style>\n",
              "  .colab-df-quickchart {\n",
              "      --bg-color: #E8F0FE;\n",
              "      --fill-color: #1967D2;\n",
              "      --hover-bg-color: #E2EBFA;\n",
              "      --hover-fill-color: #174EA6;\n",
              "      --disabled-fill-color: #AAA;\n",
              "      --disabled-bg-color: #DDD;\n",
              "  }\n",
              "\n",
              "  [theme=dark] .colab-df-quickchart {\n",
              "      --bg-color: #3B4455;\n",
              "      --fill-color: #D2E3FC;\n",
              "      --hover-bg-color: #434B5C;\n",
              "      --hover-fill-color: #FFFFFF;\n",
              "      --disabled-bg-color: #3B4455;\n",
              "      --disabled-fill-color: #666;\n",
              "  }\n",
              "\n",
              "  .colab-df-quickchart {\n",
              "    background-color: var(--bg-color);\n",
              "    border: none;\n",
              "    border-radius: 50%;\n",
              "    cursor: pointer;\n",
              "    display: none;\n",
              "    fill: var(--fill-color);\n",
              "    height: 32px;\n",
              "    padding: 0;\n",
              "    width: 32px;\n",
              "  }\n",
              "\n",
              "  .colab-df-quickchart:hover {\n",
              "    background-color: var(--hover-bg-color);\n",
              "    box-shadow: 0 1px 2px rgba(60, 64, 67, 0.3), 0 1px 3px 1px rgba(60, 64, 67, 0.15);\n",
              "    fill: var(--button-hover-fill-color);\n",
              "  }\n",
              "\n",
              "  .colab-df-quickchart-complete:disabled,\n",
              "  .colab-df-quickchart-complete:disabled:hover {\n",
              "    background-color: var(--disabled-bg-color);\n",
              "    fill: var(--disabled-fill-color);\n",
              "    box-shadow: none;\n",
              "  }\n",
              "\n",
              "  .colab-df-spinner {\n",
              "    border: 2px solid var(--fill-color);\n",
              "    border-color: transparent;\n",
              "    border-bottom-color: var(--fill-color);\n",
              "    animation:\n",
              "      spin 1s steps(1) infinite;\n",
              "  }\n",
              "\n",
              "  @keyframes spin {\n",
              "    0% {\n",
              "      border-color: transparent;\n",
              "      border-bottom-color: var(--fill-color);\n",
              "      border-left-color: var(--fill-color);\n",
              "    }\n",
              "    20% {\n",
              "      border-color: transparent;\n",
              "      border-left-color: var(--fill-color);\n",
              "      border-top-color: var(--fill-color);\n",
              "    }\n",
              "    30% {\n",
              "      border-color: transparent;\n",
              "      border-left-color: var(--fill-color);\n",
              "      border-top-color: var(--fill-color);\n",
              "      border-right-color: var(--fill-color);\n",
              "    }\n",
              "    40% {\n",
              "      border-color: transparent;\n",
              "      border-right-color: var(--fill-color);\n",
              "      border-top-color: var(--fill-color);\n",
              "    }\n",
              "    60% {\n",
              "      border-color: transparent;\n",
              "      border-right-color: var(--fill-color);\n",
              "    }\n",
              "    80% {\n",
              "      border-color: transparent;\n",
              "      border-right-color: var(--fill-color);\n",
              "      border-bottom-color: var(--fill-color);\n",
              "    }\n",
              "    90% {\n",
              "      border-color: transparent;\n",
              "      border-bottom-color: var(--fill-color);\n",
              "    }\n",
              "  }\n",
              "</style>\n",
              "\n",
              "  <script>\n",
              "    async function quickchart(key) {\n",
              "      const quickchartButtonEl =\n",
              "        document.querySelector('#' + key + ' button');\n",
              "      quickchartButtonEl.disabled = true;  // To prevent multiple clicks.\n",
              "      quickchartButtonEl.classList.add('colab-df-spinner');\n",
              "      try {\n",
              "        const charts = await google.colab.kernel.invokeFunction(\n",
              "            'suggestCharts', [key], {});\n",
              "      } catch (error) {\n",
              "        console.error('Error during call to suggestCharts:', error);\n",
              "      }\n",
              "      quickchartButtonEl.classList.remove('colab-df-spinner');\n",
              "      quickchartButtonEl.classList.add('colab-df-quickchart-complete');\n",
              "    }\n",
              "    (() => {\n",
              "      let quickchartButtonEl =\n",
              "        document.querySelector('#df-7e382698-bf80-4230-b7f1-12c4d772de73 button');\n",
              "      quickchartButtonEl.style.display =\n",
              "        google.colab.kernel.accessAllowed ? 'block' : 'none';\n",
              "    })();\n",
              "  </script>\n",
              "</div>\n",
              "\n",
              "    </div>\n",
              "  </div>\n"
            ],
            "application/vnd.google.colaboratory.intrinsic+json": {
              "type": "dataframe",
              "summary": "{\n  \"name\": \"data\",\n  \"rows\": 4,\n  \"fields\": [\n    {\n      \"column\": \"TV\",\n      \"properties\": {\n        \"dtype\": \"number\",\n        \"std\": 0.5182290756712874,\n        \"min\": 0.05480866446583008,\n        \"max\": 1.0,\n        \"num_unique_values\": 4,\n        \"samples\": [\n          0.05480866446583008,\n          0.9012079133023315,\n          1.0\n        ],\n        \"semantic_type\": \"\",\n        \"description\": \"\"\n      }\n    },\n    {\n      \"column\": \"Radio\",\n      \"properties\": {\n        \"dtype\": \"number\",\n        \"std\": 0.39896388261461313,\n        \"min\": 0.05480866446583008,\n        \"max\": 1.0,\n        \"num_unique_values\": 4,\n        \"samples\": [\n          1.0,\n          0.34963109700766926,\n          0.05480866446583008\n        ],\n        \"semantic_type\": \"\",\n        \"description\": \"\"\n      }\n    },\n    {\n      \"column\": \"Newspaper\",\n      \"properties\": {\n        \"dtype\": \"number\",\n        \"std\": 0.42360978750776684,\n        \"min\": 0.05664787496505698,\n        \"max\": 1.0,\n        \"num_unique_values\": 4,\n        \"samples\": [\n          0.35410375076117534,\n          0.15796002615492621,\n          0.05664787496505698\n        ],\n        \"semantic_type\": \"\",\n        \"description\": \"\"\n      }\n    },\n    {\n      \"column\": \"Sales\",\n      \"properties\": {\n        \"dtype\": \"number\",\n        \"std\": 0.4118214731886475,\n        \"min\": 0.15796002615492621,\n        \"max\": 1.0,\n        \"num_unique_values\": 4,\n        \"samples\": [\n          0.34963109700766926,\n          1.0,\n          0.9012079133023315\n        ],\n        \"semantic_type\": \"\",\n        \"description\": \"\"\n      }\n    }\n  ]\n}"
            }
          },
          "metadata": {},
          "execution_count": 17
        }
      ]
    },
    {
      "cell_type": "code",
      "source": [
        "import matplotlib.pyplot as plt\n",
        "import seaborn as sns\n",
        "\n",
        "plt.figure(figsize=(10, 8))\n",
        "sns.heatmap(data.corr(), annot=True, cmap='coolwarm', linewidths=0.5),\n",
        "plt.title('Correlation Heatmap')\n",
        "plt.show()"
      ],
      "metadata": {
        "colab": {
          "base_uri": "https://localhost:8080/",
          "height": 699
        },
        "id": "8enM-uUHzgs8",
        "outputId": "0fdcb96b-9d58-49a1-9af7-05740eb53032"
      },
      "execution_count": null,
      "outputs": [
        {
          "output_type": "display_data",
          "data": {
            "text/plain": [
              "<Figure size 1000x800 with 2 Axes>"
            ],
            "image/png": "[encoded data removed]"
          },
          "metadata": {}
        }
      ]
    },
    {
      "cell_type": "markdown",
      "source": [
        "# TEXT RETRIEVAL"
      ],
      "metadata": {
        "id": "fOFv5yhveQHo"
      }
    },
    {
      "cell_type": "code",
      "source": [
        "!gdown 1jh2p2DlaWsDo_vEWIcTrNh3mUuXd-cw6"
      ],
      "metadata": {
        "id": "BSXnk4DR2OyW",
        "colab": {
          "base_uri": "https://localhost:8080/"
        },
        "outputId": "48906e16-41ac-4d28-c737-734cc50e601c"
      },
      "execution_count": 1,
      "outputs": [
        {
          "output_type": "stream",
          "name": "stdout",
          "text": [
            "Downloading...\n",
            "From: https://drive.google.com/uc?id=1jh2p2DlaWsDo_vEWIcTrNh3mUuXd-cw6\n",
            "To: /content/vi_text_retrieval.csv\n",
            "\r  0% 0.00/201k [00:00<?, ?B/s]\r100% 201k/201k [00:00<00:00, 83.7MB/s]\n"
          ]
        }
      ]
    },
    {
      "cell_type": "code",
      "source": [
        "import pandas as pd\n",
        "import numpy as np\n",
        "from sklearn.metrics.pairwise import cosine_similarity\n",
        "from sklearn.feature_extraction.text import TfidfVectorizer"
      ],
      "metadata": {
        "id": "MpgWxUBxaYQE"
      },
      "execution_count": 3,
      "outputs": []
    },
    {
      "cell_type": "code",
      "source": [
        "vi_data_df = pd.read_csv('/content/vi_text_retrieval.csv')\n",
        "vi_data_df"
      ],
      "metadata": {
        "colab": {
          "base_uri": "https://localhost:8080/",
          "height": 423
        },
        "id": "n44TwxlgbAdA",
        "outputId": "5721c23c-687f-4dd3-d180-fbcfc576f787"
      },
      "execution_count": 4,
      "outputs": [
        {
          "output_type": "execute_result",
          "data": {
            "text/plain": [
              "             id                                           question  \\\n",
              "0    1570446247  Quang Hải giành được chức vô địch U21 quốc gia...   \n",
              "1    1570445661                   Mỗi hiệp bóng đá kéo dài bao lâu   \n",
              "2    1570382095            Quân đội Hoa Kỳ gồm những lực lượng nào   \n",
              "3    1570382072                                     Ngọc Lan là ai   \n",
              "4    1570382037         Thu Phương từng được những giải thưởng nào   \n",
              "..          ...                                                ...   \n",
              "495  1569486091  Dân số của Sóc Trăng đứng thứ mấy trong khu vự...   \n",
              "496  1569486072  Các nguyên lý toán học của triết học tự nhiên ...   \n",
              "497  1569486003                    Biến đổi khí hậu Trái Đất là gì   \n",
              "498  1569485614     Phanxicô Xaviê Trương Bửu Diệp mất vào năm nào   \n",
              "499  1569485573  Mật độ dân số của vùng trung du và miền núi ph...   \n",
              "\n",
              "                                                  text  \n",
              "0    Năm 2013 , Nguyễn Quang Hải giành chức vô địch...  \n",
              "1    Một trận đấu bóng đá thông thường có hai hiệp ...  \n",
              "2    Quân đội Hoa Kỳ hay Các lực lượng vũ trang Hoa...  \n",
              "3    Ngọc Lan ( 28 tháng 12 năm 1956 - 6 tháng 3 20...  \n",
              "4    Cô được coi là một trong những ca sĩ thuộc thế...  \n",
              "..                                                 ...  \n",
              "495  Sóc Trăng là một tỉnh ven biển thuộc đồng bằng...  \n",
              "496  Đây là những điều cơ bản tiên quyết của cơ học...  \n",
              "497  Biến đổi khí hậu là những biến đổi trong môi t...  \n",
              "498  Phanxicô Xaviê Trương Bửu Diệp ( 1 tháng 1 năm...  \n",
              "499  Vùng trung du miền núi phía bắc , trước năm 19...  \n",
              "\n",
              "[500 rows x 3 columns]"
            ],
            "text/html": [
              "\n",
              "  <div id=\"df-c7274b6f-6350-41ad-94ea-54fd7e07de32\" class=\"colab-df-container\">\n",
              "    <div>\n",
              "<style scoped>\n",
              "    .dataframe tbody tr th:only-of-type {\n",
              "        vertical-align: middle;\n",
              "    }\n",
              "\n",
              "    .dataframe tbody tr th {\n",
              "        vertical-align: top;\n",
              "    }\n",
              "\n",
              "    .dataframe thead th {\n",
              "        text-align: right;\n",
              "    }\n",
              "</style>\n",
              "<table border=\"1\" class=\"dataframe\">\n",
              "  <thead>\n",
              "    <tr style=\"text-align: right;\">\n",
              "      <th></th>\n",
              "      <th>id</th>\n",
              "      <th>question</th>\n",
              "      <th>text</th>\n",
              "    </tr>\n",
              "  </thead>\n",
              "  <tbody>\n",
              "    <tr>\n",
              "      <th>0</th>\n",
              "      <td>1570446247</td>\n",
              "      <td>Quang Hải giành được chức vô địch U21 quốc gia...</td>\n",
              "      <td>Năm 2013 , Nguyễn Quang Hải giành chức vô địch...</td>\n",
              "    </tr>\n",
              "    <tr>\n",
              "      <th>1</th>\n",
              "      <td>1570445661</td>\n",
              "      <td>Mỗi hiệp bóng đá kéo dài bao lâu</td>\n",
              "      <td>Một trận đấu bóng đá thông thường có hai hiệp ...</td>\n",
              "    </tr>\n",
              "    <tr>\n",
              "      <th>2</th>\n",
              "      <td>1570382095</td>\n",
              "      <td>Quân đội Hoa Kỳ gồm những lực lượng nào</td>\n",
              "      <td>Quân đội Hoa Kỳ hay Các lực lượng vũ trang Hoa...</td>\n",
              "    </tr>\n",
              "    <tr>\n",
              "      <th>3</th>\n",
              "      <td>1570382072</td>\n",
              "      <td>Ngọc Lan là ai</td>\n",
              "      <td>Ngọc Lan ( 28 tháng 12 năm 1956 - 6 tháng 3 20...</td>\n",
              "    </tr>\n",
              "    <tr>\n",
              "      <th>4</th>\n",
              "      <td>1570382037</td>\n",
              "      <td>Thu Phương từng được những giải thưởng nào</td>\n",
              "      <td>Cô được coi là một trong những ca sĩ thuộc thế...</td>\n",
              "    </tr>\n",
              "    <tr>\n",
              "      <th>...</th>\n",
              "      <td>...</td>\n",
              "      <td>...</td>\n",
              "      <td>...</td>\n",
              "    </tr>\n",
              "    <tr>\n",
              "      <th>495</th>\n",
              "      <td>1569486091</td>\n",
              "      <td>Dân số của Sóc Trăng đứng thứ mấy trong khu vự...</td>\n",
              "      <td>Sóc Trăng là một tỉnh ven biển thuộc đồng bằng...</td>\n",
              "    </tr>\n",
              "    <tr>\n",
              "      <th>496</th>\n",
              "      <td>1569486072</td>\n",
              "      <td>Các nguyên lý toán học của triết học tự nhiên ...</td>\n",
              "      <td>Đây là những điều cơ bản tiên quyết của cơ học...</td>\n",
              "    </tr>\n",
              "    <tr>\n",
              "      <th>497</th>\n",
              "      <td>1569486003</td>\n",
              "      <td>Biến đổi khí hậu Trái Đất là gì</td>\n",
              "      <td>Biến đổi khí hậu là những biến đổi trong môi t...</td>\n",
              "    </tr>\n",
              "    <tr>\n",
              "      <th>498</th>\n",
              "      <td>1569485614</td>\n",
              "      <td>Phanxicô Xaviê Trương Bửu Diệp mất vào năm nào</td>\n",
              "      <td>Phanxicô Xaviê Trương Bửu Diệp ( 1 tháng 1 năm...</td>\n",
              "    </tr>\n",
              "    <tr>\n",
              "      <th>499</th>\n",
              "      <td>1569485573</td>\n",
              "      <td>Mật độ dân số của vùng trung du và miền núi ph...</td>\n",
              "      <td>Vùng trung du miền núi phía bắc , trước năm 19...</td>\n",
              "    </tr>\n",
              "  </tbody>\n",
              "</table>\n",
              "<p>500 rows × 3 columns</p>\n",
              "</div>\n",
              "    <div class=\"colab-df-buttons\">\n",
              "\n",
              "  <div class=\"colab-df-container\">\n",
              "    <button class=\"colab-df-convert\" onclick=\"convertToInteractive('df-c7274b6f-6350-41ad-94ea-54fd7e07de32')\"\n",
              "            title=\"Convert this dataframe to an interactive table.\"\n",
              "            style=\"display:none;\">\n",
              "\n",
              "  <svg xmlns=\"http://www.w3.org/2000/svg\" height=\"24px\" viewBox=\"0 -960 960 960\">\n",
              "    <path d=\"M120-120v-720h720v720H120Zm60-500h600v-160H180v160Zm220 220h160v-160H400v160Zm0 220h160v-160H400v160ZM180-400h160v-160H180v160Zm440 0h160v-160H620v160ZM180-180h160v-160H180v160Zm440 0h160v-160H620v160Z\"/>\n",
              "  </svg>\n",
              "    </button>\n",
              "\n",
              "  <style>\n",
              "    .colab-df-container {\n",
              "      display:flex;\n",
              "      gap: 12px;\n",
              "    }\n",
              "\n",
              "    .colab-df-convert {\n",
              "      background-color: #E8F0FE;\n",
              "      border: none;\n",
              "      border-radius: 50%;\n",
              "      cursor: pointer;\n",
              "      display: none;\n",
              "      fill: #1967D2;\n",
              "      height: 32px;\n",
              "      padding: 0 0 0 0;\n",
              "      width: 32px;\n",
              "    }\n",
              "\n",
              "    .colab-df-convert:hover {\n",
              "      background-color: #E2EBFA;\n",
              "      box-shadow: 0px 1px 2px rgba(60, 64, 67, 0.3), 0px 1px 3px 1px rgba(60, 64, 67, 0.15);\n",
              "      fill: #174EA6;\n",
              "    }\n",
              "\n",
              "    .colab-df-buttons div {\n",
              "      margin-bottom: 4px;\n",
              "    }\n",
              "\n",
              "    [theme=dark] .colab-df-convert {\n",
              "      background-color: #3B4455;\n",
              "      fill: #D2E3FC;\n",
              "    }\n",
              "\n",
              "    [theme=dark] .colab-df-convert:hover {\n",
              "      background-color: #434B5C;\n",
              "      box-shadow: 0px 1px 3px 1px rgba(0, 0, 0, 0.15);\n",
              "      filter: drop-shadow(0px 1px 2px rgba(0, 0, 0, 0.3));\n",
              "      fill: #FFFFFF;\n",
              "    }\n",
              "  </style>\n",
              "\n",
              "    <script>\n",
              "      const buttonEl =\n",
              "        document.querySelector('#df-c7274b6f-6350-41ad-94ea-54fd7e07de32 button.colab-df-convert');\n",
              "      buttonEl.style.display =\n",
              "        google.colab.kernel.accessAllowed ? 'block' : 'none';\n",
              "\n",
              "      async function convertToInteractive(key) {\n",
              "        const element = document.querySelector('#df-c7274b6f-6350-41ad-94ea-54fd7e07de32');\n",
              "        const dataTable =\n",
              "          await google.colab.kernel.invokeFunction('convertToInteractive',\n",
              "                                                    [key], {});\n",
              "        if (!dataTable) return;\n",
              "\n",
              "        const docLinkHtml = 'Like what you see? Visit the ' +\n",
              "          '<a target=\"_blank\" href=https://colab.research.google.com/notebooks/data_table.ipynb>data table notebook</a>'\n",
              "          + ' to learn more about interactive tables.';\n",
              "        element.innerHTML = '';\n",
              "        dataTable['output_type'] = 'display_data';\n",
              "        await google.colab.output.renderOutput(dataTable, element);\n",
              "        const docLink = document.createElement('div');\n",
              "        docLink.innerHTML = docLinkHtml;\n",
              "        element.appendChild(docLink);\n",
              "      }\n",
              "    </script>\n",
              "  </div>\n",
              "\n",
              "\n",
              "<div id=\"df-1ed95673-a4c8-4540-85c2-035e804b59bd\">\n",
              "  <button class=\"colab-df-quickchart\" onclick=\"quickchart('df-1ed95673-a4c8-4540-85c2-035e804b59bd')\"\n",
              "            title=\"Suggest charts\"\n",
              "            style=\"display:none;\">\n",
              "\n",
              "<svg xmlns=\"http://www.w3.org/2000/svg\" height=\"24px\"viewBox=\"0 0 24 24\"\n",
              "     width=\"24px\">\n",
              "    <g>\n",
              "        <path d=\"M19 3H5c-1.1 0-2 .9-2 2v14c0 1.1.9 2 2 2h14c1.1 0 2-.9 2-2V5c0-1.1-.9-2-2-2zM9 17H7v-7h2v7zm4 0h-2V7h2v10zm4 0h-2v-4h2v4z\"/>\n",
              "    </g>\n",
              "</svg>\n",
              "  </button>\n",
              "\n",
              "<style>\n",
              "  .colab-df-quickchart {\n",
              "      --bg-color: #E8F0FE;\n",
              "      --fill-color: #1967D2;\n",
              "      --hover-bg-color: #E2EBFA;\n",
              "      --hover-fill-color: #174EA6;\n",
              "      --disabled-fill-color: #AAA;\n",
              "      --disabled-bg-color: #DDD;\n",
              "  }\n",
              "\n",
              "  [theme=dark] .colab-df-quickchart {\n",
              "      --bg-color: #3B4455;\n",
              "      --fill-color: #D2E3FC;\n",
              "      --hover-bg-color: #434B5C;\n",
              "      --hover-fill-color: #FFFFFF;\n",
              "      --disabled-bg-color: #3B4455;\n",
              "      --disabled-fill-color: #666;\n",
              "  }\n",
              "\n",
              "  .colab-df-quickchart {\n",
              "    background-color: var(--bg-color);\n",
              "    border: none;\n",
              "    border-radius: 50%;\n",
              "    cursor: pointer;\n",
              "    display: none;\n",
              "    fill: var(--fill-color);\n",
              "    height: 32px;\n",
              "    padding: 0;\n",
              "    width: 32px;\n",
              "  }\n",
              "\n",
              "  .colab-df-quickchart:hover {\n",
              "    background-color: var(--hover-bg-color);\n",
              "    box-shadow: 0 1px 2px rgba(60, 64, 67, 0.3), 0 1px 3px 1px rgba(60, 64, 67, 0.15);\n",
              "    fill: var(--button-hover-fill-color);\n",
              "  }\n",
              "\n",
              "  .colab-df-quickchart-complete:disabled,\n",
              "  .colab-df-quickchart-complete:disabled:hover {\n",
              "    background-color: var(--disabled-bg-color);\n",
              "    fill: var(--disabled-fill-color);\n",
              "    box-shadow: none;\n",
              "  }\n",
              "\n",
              "  .colab-df-spinner {\n",
              "    border: 2px solid var(--fill-color);\n",
              "    border-color: transparent;\n",
              "    border-bottom-color: var(--fill-color);\n",
              "    animation:\n",
              "      spin 1s steps(1) infinite;\n",
              "  }\n",
              "\n",
              "  @keyframes spin {\n",
              "    0% {\n",
              "      border-color: transparent;\n",
              "      border-bottom-color: var(--fill-color);\n",
              "      border-left-color: var(--fill-color);\n",
              "    }\n",
              "    20% {\n",
              "      border-color: transparent;\n",
              "      border-left-color: var(--fill-color);\n",
              "      border-top-color: var(--fill-color);\n",
              "    }\n",
              "    30% {\n",
              "      border-color: transparent;\n",
              "      border-left-color: var(--fill-color);\n",
              "      border-top-color: var(--fill-color);\n",
              "      border-right-color: var(--fill-color);\n",
              "    }\n",
              "    40% {\n",
              "      border-color: transparent;\n",
              "      border-right-color: var(--fill-color);\n",
              "      border-top-color: var(--fill-color);\n",
              "    }\n",
              "    60% {\n",
              "      border-color: transparent;\n",
              "      border-right-color: var(--fill-color);\n",
              "    }\n",
              "    80% {\n",
              "      border-color: transparent;\n",
              "      border-right-color: var(--fill-color);\n",
              "      border-bottom-color: var(--fill-color);\n",
              "    }\n",
              "    90% {\n",
              "      border-color: transparent;\n",
              "      border-bottom-color: var(--fill-color);\n",
              "    }\n",
              "  }\n",
              "</style>\n",
              "\n",
              "  <script>\n",
              "    async function quickchart(key) {\n",
              "      const quickchartButtonEl =\n",
              "        document.querySelector('#' + key + ' button');\n",
              "      quickchartButtonEl.disabled = true;  // To prevent multiple clicks.\n",
              "      quickchartButtonEl.classList.add('colab-df-spinner');\n",
              "      try {\n",
              "        const charts = await google.colab.kernel.invokeFunction(\n",
              "            'suggestCharts', [key], {});\n",
              "      } catch (error) {\n",
              "        console.error('Error during call to suggestCharts:', error);\n",
              "      }\n",
              "      quickchartButtonEl.classList.remove('colab-df-spinner');\n",
              "      quickchartButtonEl.classList.add('colab-df-quickchart-complete');\n",
              "    }\n",
              "    (() => {\n",
              "      let quickchartButtonEl =\n",
              "        document.querySelector('#df-1ed95673-a4c8-4540-85c2-035e804b59bd button');\n",
              "      quickchartButtonEl.style.display =\n",
              "        google.colab.kernel.accessAllowed ? 'block' : 'none';\n",
              "    })();\n",
              "  </script>\n",
              "</div>\n",
              "\n",
              "  <div id=\"id_8e6f6be3-b491-45f1-9b87-2f59f7236ae3\">\n",
              "    <style>\n",
              "      .colab-df-generate {\n",
              "        background-color: #E8F0FE;\n",
              "        border: none;\n",
              "        border-radius: 50%;\n",
              "        cursor: pointer;\n",
              "        display: none;\n",
              "        fill: #1967D2;\n",
              "        height: 32px;\n",
              "        padding: 0 0 0 0;\n",
              "        width: 32px;\n",
              "      }\n",
              "\n",
              "      .colab-df-generate:hover {\n",
              "        background-color: #E2EBFA;\n",
              "        box-shadow: 0px 1px 2px rgba(60, 64, 67, 0.3), 0px 1px 3px 1px rgba(60, 64, 67, 0.15);\n",
              "        fill: #174EA6;\n",
              "      }\n",
              "\n",
              "      [theme=dark] .colab-df-generate {\n",
              "        background-color: #3B4455;\n",
              "        fill: #D2E3FC;\n",
              "      }\n",
              "\n",
              "      [theme=dark] .colab-df-generate:hover {\n",
              "        background-color: #434B5C;\n",
              "        box-shadow: 0px 1px 3px 1px rgba(0, 0, 0, 0.15);\n",
              "        filter: drop-shadow(0px 1px 2px rgba(0, 0, 0, 0.3));\n",
              "        fill: #FFFFFF;\n",
              "      }\n",
              "    </style>\n",
              "    <button class=\"colab-df-generate\" onclick=\"generateWithVariable('vi_data_df')\"\n",
              "            title=\"Generate code using this dataframe.\"\n",
              "            style=\"display:none;\">\n",
              "\n",
              "  <svg xmlns=\"http://www.w3.org/2000/svg\" height=\"24px\"viewBox=\"0 0 24 24\"\n",
              "       width=\"24px\">\n",
              "    <path d=\"M7,19H8.4L18.45,9,17,7.55,7,17.6ZM5,21V16.75L18.45,3.32a2,2,0,0,1,2.83,0l1.4,1.43a1.91,1.91,0,0,1,.58,1.4,1.91,1.91,0,0,1-.58,1.4L9.25,21ZM18.45,9,17,7.55Zm-12,3A5.31,5.31,0,0,0,4.9,8.1,5.31,5.31,0,0,0,1,6.5,5.31,5.31,0,0,0,4.9,4.9,5.31,5.31,0,0,0,6.5,1,5.31,5.31,0,0,0,8.1,4.9,5.31,5.31,0,0,0,12,6.5,5.46,5.46,0,0,0,6.5,12Z\"/>\n",
              "  </svg>\n",
              "    </button>\n",
              "    <script>\n",
              "      (() => {\n",
              "      const buttonEl =\n",
              "        document.querySelector('#id_8e6f6be3-b491-45f1-9b87-2f59f7236ae3 button.colab-df-generate');\n",
              "      buttonEl.style.display =\n",
              "        google.colab.kernel.accessAllowed ? 'block' : 'none';\n",
              "\n",
              "      buttonEl.onclick = () => {\n",
              "        google.colab.notebook.generateWithVariable('vi_data_df');\n",
              "      }\n",
              "      })();\n",
              "    </script>\n",
              "  </div>\n",
              "\n",
              "    </div>\n",
              "  </div>\n"
            ],
            "application/vnd.google.colaboratory.intrinsic+json": {
              "type": "dataframe",
              "variable_name": "vi_data_df",
              "summary": "{\n  \"name\": \"vi_data_df\",\n  \"rows\": 500,\n  \"fields\": [\n    {\n      \"column\": \"id\",\n      \"properties\": {\n        \"dtype\": \"number\",\n        \"std\": 357950,\n        \"min\": 1569485573,\n        \"max\": 1570446247,\n        \"num_unique_values\": 500,\n        \"samples\": [\n          1569590998,\n          1570375367,\n          1569590542\n        ],\n        \"semantic_type\": \"\",\n        \"description\": \"\"\n      }\n    },\n    {\n      \"column\": \"question\",\n      \"properties\": {\n        \"dtype\": \"string\",\n        \"num_unique_values\": 500,\n        \"samples\": [\n          \"Karl Heinrich Marx l\\u00e0 ai\",\n          \"Yoona sinh ng\\u00e0y m\\u1ea5y\",\n          \"D\\u1ea5u hi\\u1ec7u c\\u1ee7a b\\u1ec7nh r\\u1ed1i lo\\u1ea1n \\u00e1m \\u1ea3nh c\\u01b0\\u1ee1ng ch\\u1ebf\"\n        ],\n        \"semantic_type\": \"\",\n        \"description\": \"\"\n      }\n    },\n    {\n      \"column\": \"text\",\n      \"properties\": {\n        \"dtype\": \"string\",\n        \"num_unique_values\": 442,\n        \"samples\": [\n          \"Tr\\u00ean \\u0111\\u1ec9nh n\\u00fai th\\u01b0\\u1eddng c\\u00f3 m\\u00e2y bao ph\\u1ee7 n\\u00ean ng\\u00e0y tr\\u01b0\\u1edbc c\\u00f3 t\\u00ean g\\u1ecdi l\\u00e0 B\\u1ea1ch V\\u00e2n s\\u01a1n . T\\u1ed5ng chi\\u1ec1u d\\u00e0i \\u0111\\u01b0\\u1eddng b\\u1ed9 \\u0111\\u1ec3 l\\u00ean \\u0111\\u1ec9nh Y\\u00ean T\\u1eed ( ch\\u00f9a \\u0110\\u1ed3ng ) l\\u00e0 kho\\u1ea3ng 6000m v\\u1edbi 6 gi\\u1edd \\u0111i b\\u1ed9 li\\u00ean t\\u1ee5c qua h\\u00e0ng ng\\u00e0n b\\u1eadc \\u0111\\u00e1 , \\u0111\\u01b0\\u1eddng r\\u1eebng n\\u00fai ...\",\n          \"Hi\\u1ec7n nay Lu\\u1eadt b\\u00f3ng \\u0111\\u00e1 ch\\u00ednh th\\u1ee9c c\\u00f3 17 \\u0111i\\u1ec1u \\u0111\\u01b0\\u1ee3c \\u00e1p d\\u1ee5ng cho m\\u1ecdi c\\u1ea5p \\u0111\\u1ed9 ch\\u01a1i b\\u00f3ng v\\u00e0 ch\\u1ec9 c\\u00f3 m\\u1ed9t v\\u00e0i s\\u1eeda \\u0111\\u1ed5i nh\\u1ecf cho ph\\u00f9 h\\u1ee3p v\\u1edbi b\\u00f3ng \\u0111\\u00e1 n\\u1eef v\\u00e0 b\\u00f3ng \\u0111\\u00e1 tr\\u1ebb .\",\n          \"Ng\\u00f4n ng\\u1eef l\\u1eadp tr\\u00ecnh l\\u00e0 m\\u1ed9t t\\u1eadp con c\\u1ee7a ng\\u00f4n ng\\u1eef m\\u00e1y t\\u00ednh , \\u0111\\u01b0\\u1ee3c thi\\u1ebft k\\u1ebf v\\u00e0 chu\\u1ea9n ho\\u00e1 \\u0111\\u1ec3 truy\\u1ec1n c\\u00e1c ch\\u1ec9 th\\u1ecb cho c\\u00e1c m\\u00e1y c\\u00f3 b\\u1ed9 x\\u1eed l\\u00fd ( CPU ) , n\\u00f3i ri\\u00eang l\\u00e0 m\\u00e1y t\\u00ednh . Ng\\u00f4n ng\\u1eef l\\u1eadp tr\\u00ecnh \\u0111\\u01b0\\u1ee3c d\\u00f9ng \\u0111\\u1ec3 l\\u1eadp tr\\u00ecnh m\\u00e1y t\\u00ednh , t\\u1ea1o ra c\\u00e1c ch\\u01b0\\u01a1ng tr\\u00ecnh m\\u00e1y nh\\u1eb1m m\\u1ee5c \\u0111\\u00edch \\u0111i\\u1ec1u khi\\u1ec3n m\\u00e1y t\\u00ednh ho\\u1eb7c m\\u00f4 t\\u1ea3 c\\u00e1c thu\\u1eadt to\\u00e1n \\u0111\\u1ec3 ng\\u01b0\\u1eddi kh\\u00e1c \\u0111\\u1ecdc hi\\u1ec3u .\"\n        ],\n        \"semantic_type\": \"\",\n        \"description\": \"\"\n      }\n    }\n  ]\n}"
            }
          },
          "metadata": {},
          "execution_count": 4
        }
      ]
    },
    {
      "cell_type": "code",
      "source": [
        "content = vi_data_df['text']\n",
        "content = [doc.lower() for doc in content]"
      ],
      "metadata": {
        "id": "nShoLoPobIV8"
      },
      "execution_count": 6,
      "outputs": []
    },
    {
      "cell_type": "code",
      "source": [
        "tfidf_vectorizer = TfidfVectorizer()\n",
        "content_embedded = tfidf_vectorizer.fit_transform(content)"
      ],
      "metadata": {
        "id": "6w3BVBdKbWeJ"
      },
      "execution_count": 7,
      "outputs": []
    },
    {
      "cell_type": "code",
      "source": [
        "content_embedded.toarray()[7][0]"
      ],
      "metadata": {
        "colab": {
          "base_uri": "https://localhost:8080/"
        },
        "id": "lzT41Fw_bivY",
        "outputId": "4b55c478-f98c-4726-94e0-42506512ef73"
      },
      "execution_count": 9,
      "outputs": [
        {
          "output_type": "execute_result",
          "data": {
            "text/plain": [
              "0.31126580760710637"
            ]
          },
          "metadata": {},
          "execution_count": 9
        }
      ]
    },
    {
      "cell_type": "code",
      "source": [
        "def tfidf_search(question, tfidf_vectorizer, top_d = 5):\n",
        "  query_embedded = tfidf_vectorizer.transform([question.lower()])\n",
        "  cosine_scores = cosine_similarity(query_embedded, content_embedded).reshape((-1,))\n",
        "\n",
        "  result = []\n",
        "  for idx in cosine_scores.argsort()[-top_d:][::-1]:\n",
        "    doc_score = {\n",
        "        'id': idx,\n",
        "        'cosine_score': cosine_scores[idx]\n",
        "    }\n",
        "    result.append(doc_score)\n",
        "  return result"
      ],
      "metadata": {
        "id": "67ZTLRtEcbgS"
      },
      "execution_count": 13,
      "outputs": []
    },
    {
      "cell_type": "code",
      "source": [
        "question = vi_data_df.iloc[0]['question']\n",
        "result = tfidf_search(question, tfidf_vectorizer, top_d = 5)\n",
        "result[0]['cosine_score']"
      ],
      "metadata": {
        "colab": {
          "base_uri": "https://localhost:8080/"
        },
        "id": "MTsiKNVRdxYB",
        "outputId": "ea7b6442-af83-4b54-e719-381cb6c0943c"
      },
      "execution_count": 14,
      "outputs": [
        {
          "output_type": "execute_result",
          "data": {
            "text/plain": [
              "0.6279910475266974"
            ]
          },
          "metadata": {},
          "execution_count": 14
        }
      ]
    },
    {
      "cell_type": "code",
      "source": [
        "def corr_search(question, tfidf_vectorizer, top_d = 5):\n",
        "  query_embedded = tfidf_vectorizer.transform([question.lower()])\n",
        "  corr_scores = np.corrcoef(\n",
        "      query_embedded.toarray()[0],\n",
        "      content_embedded.toarray()\n",
        "      )\n",
        "  corr_scores = corr_scores[0][1:]\n",
        "  result = []\n",
        "  for idx in corr_scores.argsort()[-top_d:][::-1]:\n",
        "    doc = {\n",
        "        'id': idx,\n",
        "        'corr_score': corr_scores[idx]\n",
        "    }\n",
        "    result.append(doc)\n",
        "  return result"
      ],
      "metadata": {
        "id": "-er2ulFKeIpS"
      },
      "execution_count": 22,
      "outputs": []
    },
    {
      "cell_type": "code",
      "source": [
        "question = vi_data_df.iloc[0]['question']\n",
        "result = corr_search(question, tfidf_vectorizer, top_d = 5)\n",
        "result[1]['corr_score']"
      ],
      "metadata": {
        "colab": {
          "base_uri": "https://localhost:8080/"
        },
        "id": "fmgoAAkCfiw2",
        "outputId": "a6c47ce9-7533-4fa4-b2c9-d37ffbc4b603"
      },
      "execution_count": 23,
      "outputs": [
        {
          "output_type": "execute_result",
          "data": {
            "text/plain": [
              "0.20734246471973258"
            ]
          },
          "metadata": {},
          "execution_count": 23
        }
      ]
    }
  ]
}