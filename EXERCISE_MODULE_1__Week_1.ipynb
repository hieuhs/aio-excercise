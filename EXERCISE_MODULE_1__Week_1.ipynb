{
  "nbformat": 4,
  "nbformat_minor": 0,
  "metadata": {
    "colab": {
      "provenance": []
    },
    "kernelspec": {
      "name": "python3",
      "display_name": "Python 3"
    },
    "language_info": {
      "name": "python"
    }
  },
  "cells": [
    {
      "cell_type": "code",
      "execution_count": 1,
      "metadata": {
        "id": "eoSPN5EgWJdl"
      },
      "outputs": [],
      "source": [
        "#Exercise 1\n",
        "\n",
        "def exercise1(tp, fp, fn):\n",
        "  if isinstance(tp, int) == False:\n",
        "    print(\"tp must be int\")\n",
        "    return\n",
        "  if isinstance(fp, int) == False:\n",
        "    print(\"fp must be int\")\n",
        "    return\n",
        "  if isinstance(fn, int) == False:\n",
        "    print(\"fn must be int\")\n",
        "    return\n",
        "  if tp < 1 or fp < 1 or fn < 1:\n",
        "    print(\"tp and fp and fn must be greater than zero\")\n",
        "    return\n",
        "\n",
        "  print(f'precision is {tp/(tp+fp)}')\n",
        "  print(f'recall is {tp/(tp+fn)}')\n",
        "  print(f'f1-score is {2*((tp/(tp+fp))*(tp/(tp+fn)))/(tp/(tp+fp)+(tp/(tp+fn)))}')"
      ]
    },
    {
      "cell_type": "code",
      "source": [
        "exercise1(tp =2 , fp =3 , fn =4)"
      ],
      "metadata": {
        "colab": {
          "base_uri": "https://localhost:8080/"
        },
        "id": "Egz22k_4Ydb4",
        "outputId": "371828c0-2eea-495f-edc7-1267e394d9aa"
      },
      "execution_count": 2,
      "outputs": [
        {
          "output_type": "stream",
          "name": "stdout",
          "text": [
            "precision is 0.4\n",
            "recall is 0.3333333333333333\n",
            "f1-score is 0.3636363636363636\n"
          ]
        }
      ]
    },
    {
      "cell_type": "code",
      "source": [
        "exercise1(tp = 'a' , fp =3 , fn =4)"
      ],
      "metadata": {
        "colab": {
          "base_uri": "https://localhost:8080/"
        },
        "id": "cc55Nb-bYpvJ",
        "outputId": "ca9a0909-4646-417e-ccd3-8724fc103d9f"
      },
      "execution_count": 3,
      "outputs": [
        {
          "output_type": "stream",
          "name": "stdout",
          "text": [
            "tp must be int\n"
          ]
        }
      ]
    },
    {
      "cell_type": "code",
      "source": [
        "exercise1(tp =2 , fp =\"a\", fn =4)"
      ],
      "metadata": {
        "colab": {
          "base_uri": "https://localhost:8080/"
        },
        "id": "OH0v0Vz2XGI3",
        "outputId": "3ed2aed1-1398-41c1-bba7-bf3063ea520d"
      },
      "execution_count": 4,
      "outputs": [
        {
          "output_type": "stream",
          "name": "stdout",
          "text": [
            "fp must be int\n"
          ]
        }
      ]
    },
    {
      "cell_type": "code",
      "source": [
        "exercise1(tp =2 , fp =3 , fn =\"a\")"
      ],
      "metadata": {
        "colab": {
          "base_uri": "https://localhost:8080/"
        },
        "id": "_bY01Nyea9GL",
        "outputId": "a7efb7c5-e7fb-45ec-ad41-0bc0b2cc2392"
      },
      "execution_count": 5,
      "outputs": [
        {
          "output_type": "stream",
          "name": "stdout",
          "text": [
            "fn must be int\n"
          ]
        }
      ]
    },
    {
      "cell_type": "code",
      "source": [
        "exercise1(tp =2 , fp =3 , fn =0)"
      ],
      "metadata": {
        "colab": {
          "base_uri": "https://localhost:8080/"
        },
        "id": "3ZKiVmszbJRt",
        "outputId": "5e84a242-c5ec-4fc0-a720-073b261511af"
      },
      "execution_count": 6,
      "outputs": [
        {
          "output_type": "stream",
          "name": "stdout",
          "text": [
            "tp and fp and fn must be greater than zero\n"
          ]
        }
      ]
    },
    {
      "cell_type": "code",
      "source": [
        "#Exercise2\n",
        "\n",
        "import math\n",
        "def is_number(n):\n",
        "  try:\n",
        "    float(n)\n",
        "  except ValueError:\n",
        "    return False\n",
        "  return True\n",
        "\n",
        "def exercise2(x, activation_function):\n",
        "  if is_number(x) == False:\n",
        "    print(\"x must be a number\")\n",
        "    return\n",
        "  if activation_function not in ('sigmoid', 'relu', 'elu'):\n",
        "    print(f\"{activation_function} is not supported\")\n",
        "    return\n",
        "  if activation_function == 'sigmoid':\n",
        "    print(f'{activation_function}: f({x}) =', 1/(1+math.exp(-x)))\n",
        "    return\n",
        "  if activation_function == 'relu':\n",
        "    if x > 0:\n",
        "      print(f'{activation_function}: f({x}) =', x)\n",
        "    else:\n",
        "      print(0)\n",
        "  if activation_function == 'elu':\n",
        "    if x > 0:\n",
        "      print(f'{activation_function}: f({x}) =', x)\n",
        "    else:\n",
        "      print(f'{activation_function}: f({x}) =', math.exp(x)-1)"
      ],
      "metadata": {
        "id": "9vRmknIfeWYT"
      },
      "execution_count": 11,
      "outputs": []
    },
    {
      "cell_type": "code",
      "source": [
        "exercise2(x = 1, activation_function = 'sigmoid')"
      ],
      "metadata": {
        "colab": {
          "base_uri": "https://localhost:8080/"
        },
        "id": "7aXiXn0xftbF",
        "outputId": "942d9e53-1088-48d9-fe66-d173d741fee7"
      },
      "execution_count": 12,
      "outputs": [
        {
          "output_type": "stream",
          "name": "stdout",
          "text": [
            "sigmoid: f(1) = 0.7310585786300049\n"
          ]
        }
      ]
    },
    {
      "cell_type": "code",
      "source": [
        "exercise2(x = 'abc', activation_function = 'relu')"
      ],
      "metadata": {
        "colab": {
          "base_uri": "https://localhost:8080/"
        },
        "id": "aU45AQotheyj",
        "outputId": "102005cb-66bf-420d-8a9a-3e984ee71231"
      },
      "execution_count": 13,
      "outputs": [
        {
          "output_type": "stream",
          "name": "stdout",
          "text": [
            "x must be a number\n"
          ]
        }
      ]
    },
    {
      "cell_type": "code",
      "source": [
        "exercise2(x = 1.5, activation_function = 'belu')"
      ],
      "metadata": {
        "colab": {
          "base_uri": "https://localhost:8080/"
        },
        "id": "bca47vCKhl_-",
        "outputId": "5ed732e4-e368-49df-834e-f53c3df28e08"
      },
      "execution_count": 14,
      "outputs": [
        {
          "output_type": "stream",
          "name": "stdout",
          "text": [
            "belu is not supported\n"
          ]
        }
      ]
    },
    {
      "cell_type": "code",
      "source": [
        "#Excersice 3\n",
        "\n",
        "import random\n",
        "def is_numeric(n):\n",
        "  try:\n",
        "    int(n)\n",
        "  except ValueError:\n",
        "    return False\n",
        "  return True\n",
        "\n",
        "def exercise3(n,loss_function):\n",
        "  if is_numeric(n) == False:\n",
        "    print(\"number of samples must be an interger number\")\n",
        "    return\n",
        "  final_loss = 0\n",
        "  for i in range(n):\n",
        "    predict = random.uniform(0, 10)\n",
        "    target = random.uniform(0, 10)\n",
        "    if loss_function == 'MSE':\n",
        "      final_loss += (predict-target)**2\n",
        "      print(f'loss name: {loss_function}, sample: {i}, pred: {predict}, target: {target}, loss: {(predict-target)**2}')\n",
        "    if loss_function == 'MAE':\n",
        "      final_loss += abs(predict-target)\n",
        "      print(f'loss name: {loss_function}, sample: {i}, pred: {predict}, target: {target}, loss: {abs(predict-target)}')\n",
        "    if loss_function == 'RMSE':\n",
        "      final_loss += math.sqrt((predict-target)**2)\n",
        "      print(f'loss name: {loss_function}, sample: {i}, pred: {predict}, target: {target}, loss: {math.sqrt((predict-target)**2)}')\n",
        "  if loss_function == 'MSE':\n",
        "    print(f'final loss: {final_loss/n}')\n",
        "  if loss_function == 'MAE':\n",
        "    print(f'final loss: {final_loss/n}')\n",
        "  if loss_function == 'RMSE':\n",
        "    print(f'final loss: {final_loss/math.sqrt(n)}')"
      ],
      "metadata": {
        "id": "Tszo5Q9Th9-9"
      },
      "execution_count": 15,
      "outputs": []
    },
    {
      "cell_type": "code",
      "source": [
        "exercise3(n = 5, loss_function = 'RMSE')"
      ],
      "metadata": {
        "colab": {
          "base_uri": "https://localhost:8080/"
        },
        "id": "TsIMOGk_n30k",
        "outputId": "92883cdb-0c45-46d5-9427-b25e68c5d020"
      },
      "execution_count": 16,
      "outputs": [
        {
          "output_type": "stream",
          "name": "stdout",
          "text": [
            "loss name: RMSE, sample: 0, pred: 3.214531108708595, target: 8.113371702531158, loss: 4.8988405938225625\n",
            "loss name: RMSE, sample: 1, pred: 2.335879421347935, target: 1.247064060892299, loss: 1.088815360455636\n",
            "loss name: RMSE, sample: 2, pred: 1.871213574370394, target: 0.05083502281994723, loss: 1.8203785515504467\n",
            "loss name: RMSE, sample: 3, pred: 2.446813654794955, target: 9.768924752812081, loss: 7.3221110980171265\n",
            "loss name: RMSE, sample: 4, pred: 8.806232827789866, target: 2.7398721288092167, loss: 6.06636069898065\n",
            "final loss: 9.479365795724524\n"
          ]
        }
      ]
    },
    {
      "cell_type": "code",
      "source": [
        "#Exercise 4\n",
        "\n",
        "def approx_sin(x, n):\n",
        "  result = 0\n",
        "  if n > 0 and isinstance(n, int) == True:\n",
        "    factorial = 1\n",
        "    for i in range(n):\n",
        "      factorial *= (2*i+1)\n",
        "      result += (-1)**i * x**(2*i+1)/math.factorial(2*i+1)\n",
        "  return result\n",
        "\n",
        "def approx_cos(x,n):\n",
        "  result = 0\n",
        "  if n > 0 and isinstance(n, int) == True:\n",
        "    for i in range(n):\n",
        "      result += (-1)**i * x**(2*i)/math.factorial(2*i)\n",
        "  return result\n",
        "\n",
        "def approx_sinh(x,n):\n",
        "  result = 0\n",
        "  if n > 0 and isinstance(n, int) == True:\n",
        "    for i in range(n):\n",
        "      result += x**(2*i+1)/math.factorial(2*i+1)\n",
        "  return result\n",
        "\n",
        "def approx_cosh(x,n):\n",
        "  result = 0\n",
        "  if n > 0 and isinstance(n, int) == True:\n",
        "    for i in range(n):\n",
        "      result += x**(2*i)/math.factorial(2*i)\n",
        "  return result"
      ],
      "metadata": {
        "id": "HGYjmMGmptce"
      },
      "execution_count": 34,
      "outputs": []
    },
    {
      "cell_type": "code",
      "source": [
        "approx_cos(x = 3.14, n = 10)"
      ],
      "metadata": {
        "colab": {
          "base_uri": "https://localhost:8080/"
        },
        "id": "0OZmwiV6sHZ-",
        "outputId": "12d822da-72bb-4ef9-d146-553c3bb2c4b2"
      },
      "execution_count": 36,
      "outputs": [
        {
          "output_type": "execute_result",
          "data": {
            "text/plain": [
              "-0.9999987352210833"
            ]
          },
          "metadata": {},
          "execution_count": 36
        }
      ]
    },
    {
      "cell_type": "code",
      "source": [
        "approx_sin(x = 3.14, n = 10)"
      ],
      "metadata": {
        "colab": {
          "base_uri": "https://localhost:8080/"
        },
        "id": "f5wh9FPAqbIR",
        "outputId": "d007950e-9267-4aff-b986-4d85b1def38d"
      },
      "execution_count": 35,
      "outputs": [
        {
          "output_type": "execute_result",
          "data": {
            "text/plain": [
              "0.001592652393160744"
            ]
          },
          "metadata": {},
          "execution_count": 35
        }
      ]
    },
    {
      "cell_type": "code",
      "source": [
        "approx_sinh(x = 3.14, n = 10)"
      ],
      "metadata": {
        "colab": {
          "base_uri": "https://localhost:8080/"
        },
        "id": "F12UaBedue3t",
        "outputId": "fbb855ad-09ff-4ce7-904a-c6e692463e93"
      },
      "execution_count": 37,
      "outputs": [
        {
          "output_type": "execute_result",
          "data": {
            "text/plain": [
              "11.530292029865986"
            ]
          },
          "metadata": {},
          "execution_count": 37
        }
      ]
    },
    {
      "cell_type": "code",
      "source": [
        "approx_cosh(x = 3.14, n = 10)"
      ],
      "metadata": {
        "colab": {
          "base_uri": "https://localhost:8080/"
        },
        "id": "RM88VzyRuhxG",
        "outputId": "f3393ebd-ce97-4b83-942e-2d0a961bcf6e"
      },
      "execution_count": 38,
      "outputs": [
        {
          "output_type": "execute_result",
          "data": {
            "text/plain": [
              "11.573574824666185"
            ]
          },
          "metadata": {},
          "execution_count": 38
        }
      ]
    },
    {
      "cell_type": "code",
      "source": [
        "#Exercise 5\n",
        "def md_nre_single_sample(y, y_hat, n, p):\n",
        "  return (math.pow(y,1/n) - math.pow(y_hat,1/n))**p"
      ],
      "metadata": {
        "id": "oKvG5j5Ful3Y"
      },
      "execution_count": 39,
      "outputs": []
    },
    {
      "cell_type": "code",
      "source": [
        "md_nre_single_sample(y = 100, y_hat = 99.5, n = 2, p = 1)"
      ],
      "metadata": {
        "colab": {
          "base_uri": "https://localhost:8080/"
        },
        "id": "cJvo-Igyv0Ji",
        "outputId": "4c8f850b-c331-44ac-9dfa-0f5897b3d696"
      },
      "execution_count": 40,
      "outputs": [
        {
          "output_type": "execute_result",
          "data": {
            "text/plain": [
              "0.025031328369998107"
            ]
          },
          "metadata": {},
          "execution_count": 40
        }
      ]
    },
    {
      "cell_type": "code",
      "source": [
        "md_nre_single_sample(y = 50, y_hat = 49.5, n = 2, p = 1)"
      ],
      "metadata": {
        "colab": {
          "base_uri": "https://localhost:8080/"
        },
        "id": "ur7pzsr6v5gg",
        "outputId": "1d189cd7-32d9-4cdb-d138-e0c4ff30e73a"
      },
      "execution_count": 41,
      "outputs": [
        {
          "output_type": "execute_result",
          "data": {
            "text/plain": [
              "0.03544417213033135"
            ]
          },
          "metadata": {},
          "execution_count": 41
        }
      ]
    },
    {
      "cell_type": "code",
      "source": [
        "md_nre_single_sample(y = 20, y_hat = 19.5, n = 2, p = 1)"
      ],
      "metadata": {
        "colab": {
          "base_uri": "https://localhost:8080/"
        },
        "id": "cuKPElnRv-EB",
        "outputId": "e3a597c2-aebf-458a-92d1-10386d0d2d9e"
      },
      "execution_count": 42,
      "outputs": [
        {
          "output_type": "execute_result",
          "data": {
            "text/plain": [
              "0.05625552183565574"
            ]
          },
          "metadata": {},
          "execution_count": 42
        }
      ]
    },
    {
      "cell_type": "code",
      "source": [
        "md_nre_single_sample(y = 0.6, y_hat = 0.1, n = 2, p = 1)"
      ],
      "metadata": {
        "colab": {
          "base_uri": "https://localhost:8080/"
        },
        "id": "H-25hANKwBhw",
        "outputId": "409e57b4-c767-42b2-b06c-f990fd69daed"
      },
      "execution_count": 43,
      "outputs": [
        {
          "output_type": "execute_result",
          "data": {
            "text/plain": [
              "0.45836890322464546"
            ]
          },
          "metadata": {},
          "execution_count": 43
        }
      ]
    }
  ]
}